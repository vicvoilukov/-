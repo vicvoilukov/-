{
  "cells": [
    {
      "cell_type": "code",
      "source": [
        "from google.colab import drive\n",
        "drive.mount('/content/drive')"
      ],
      "metadata": {
        "colab": {
          "base_uri": "https://localhost:8080/"
        },
        "id": "XZl9SU8dkXR2",
        "outputId": "1f87f4a3-7c7a-4102-e27f-4a843737cc3d"
      },
      "execution_count": 1,
      "outputs": [
        {
          "output_type": "stream",
          "name": "stdout",
          "text": [
            "Mounted at /content/drive\n"
          ]
        }
      ]
    },
    {
      "cell_type": "markdown",
      "metadata": {
        "id": "-p_PtaWo-OAm"
      },
      "source": [
        "# Task 1"
      ]
    },
    {
      "cell_type": "markdown",
      "source": [
        "Download any size dataset from https://grouplens.org/datasets/movielens/\n",
        "\n",
        "Determine which movie received the most 5.0 ratings"
      ],
      "metadata": {
        "id": "DfypYGuipc2g"
      }
    },
    {
      "cell_type": "code",
      "execution_count": 2,
      "metadata": {
        "id": "L-qqa8O7Z366"
      },
      "outputs": [],
      "source": [
        "import pandas as pd"
      ]
    },
    {
      "cell_type": "code",
      "execution_count": null,
      "metadata": {
        "id": "ulo03qK9Z9Ic"
      },
      "outputs": [],
      "source": [
        "links = pd.read_csv('/content/drive/MyDrive/Data Science/Pandas/ml-latest-small/links.csv')\n",
        "movies = pd.read_csv('/content/drive/MyDrive/Data Science/Pandas/ml-latest-small/movies.csv')\n",
        "ratings = pd.read_csv('/content/drive/MyDrive/Data Science/Pandas/ml-latest-small/ratings.csv')\n",
        "tags = pd.read_csv('/content/drive/MyDrive/Data Science/Pandas/ml-latest-small/tags.csv')\n"
      ]
    },
    {
      "cell_type": "code",
      "execution_count": null,
      "metadata": {
        "id": "Houc598tQbc4"
      },
      "outputs": [],
      "source": [
        "joined = ratings.merge(movies, on='movieId', how='left')"
      ]
    },
    {
      "cell_type": "code",
      "source": [
        "joined[joined.rating == 5].title.value_counts().head(1)"
      ],
      "metadata": {
        "colab": {
          "base_uri": "https://localhost:8080/"
        },
        "id": "so_svcGao4rb",
        "outputId": "b0780a8b-240b-4b98-9899-9a581edaf1e8"
      },
      "execution_count": null,
      "outputs": [
        {
          "output_type": "execute_result",
          "data": {
            "text/plain": [
              "Shawshank Redemption, The (1994)    153\n",
              "Name: title, dtype: int64"
            ]
          },
          "metadata": {},
          "execution_count": 8
        }
      ]
    },
    {
      "cell_type": "markdown",
      "metadata": {
        "id": "aS9n8hIcA5h-"
      },
      "source": [
        "# Task 2"
      ]
    },
    {
      "cell_type": "markdown",
      "source": [
        "Calculate the total consumption of the Baltic countries (Latvia, Lithuania and Estonia) of categories 4, 12 and 21 for the period from 2005 to 2010 using the power.csv file. Do not include negative quantities in your calculations."
      ],
      "metadata": {
        "id": "zaHKgQJ041Dp"
      }
    },
    {
      "cell_type": "code",
      "execution_count": 3,
      "metadata": {
        "id": "x78hXfedA5Mg"
      },
      "outputs": [],
      "source": [
        "power = pd.read_csv('/content/drive/MyDrive/Data Science/Pandas/ml-latest-small/power.csv')"
      ]
    },
    {
      "cell_type": "code",
      "source": [
        "power[ power['country'].str.contains('est', case=False) ]['country'].unique()"
      ],
      "metadata": {
        "colab": {
          "base_uri": "https://localhost:8080/"
        },
        "id": "07sXU53bmgnZ",
        "outputId": "eef4ea56-0f1c-4051-ab1d-1e747f80b2c0"
      },
      "execution_count": null,
      "outputs": [
        {
          "output_type": "execute_result",
          "data": {
            "text/plain": [
              "array(['Estonia', 'State of Palestine', 'Timor-Leste'], dtype=object)"
            ]
          },
          "metadata": {},
          "execution_count": 7
        }
      ]
    },
    {
      "cell_type": "code",
      "source": [
        "'Latvia' 'Lithuania' 'Estonia'"
      ],
      "metadata": {
        "id": "4i__pKGx9NTM",
        "colab": {
          "base_uri": "https://localhost:8080/",
          "height": 35
        },
        "outputId": "bdab0ed4-d531-4ea1-e0d8-ea916e8534a8"
      },
      "execution_count": null,
      "outputs": [
        {
          "output_type": "execute_result",
          "data": {
            "text/plain": [
              "'LatviaLithuaniaEstonia'"
            ],
            "application/vnd.google.colaboratory.intrinsic+json": {
              "type": "string"
            }
          },
          "metadata": {},
          "execution_count": 8
        }
      ]
    },
    {
      "cell_type": "code",
      "source": [
        "filtered_countries = power[ power['country'].isin(['Latvia', 'Lithuania', 'Estonia']) ]\n",
        "filtered_category = filtered_countries[ filtered_countries['category'].isin([4, 12, 21]) ]\n",
        "filtered_table = filtered_category [ (filtered_category['year'] >= 2005) & (filtered_category['year'] <= 2010) & (filtered_category['quantity'] > 0) ]\n",
        "print('The total consumption of the Baltic countries in categories 4, 12 and 21 for the period from 2005 to 2010 - ', filtered_table.quantity.sum())"
      ],
      "metadata": {
        "colab": {
          "base_uri": "https://localhost:8080/"
        },
        "id": "-dmrnnOt57yg",
        "outputId": "dc01d87f-f2de-4bdd-e851-9810cc3ffc07"
      },
      "execution_count": 4,
      "outputs": [
        {
          "output_type": "stream",
          "name": "stdout",
          "text": [
            "The total consumption of the Baltic countries in categories 4, 12 and 21 for the period from 2005 to 2010 -  240580.0\n"
          ]
        }
      ]
    },
    {
      "cell_type": "markdown",
      "metadata": {
        "id": "pSi-IoQxC9qq"
      },
      "source": [
        "# Task 3"
      ]
    },
    {
      "cell_type": "markdown",
      "source": [
        "Select a page on any site with tabular data. Import tables into pandas dataframe."
      ],
      "metadata": {
        "id": "MMnOcOiKp90_"
      }
    },
    {
      "cell_type": "code",
      "source": [
        "import re\n",
        "from datetime import date\n",
        "from datetime import datetime"
      ],
      "metadata": {
        "id": "ifS5EnuYqnpi"
      },
      "execution_count": 9,
      "outputs": []
    },
    {
      "cell_type": "code",
      "source": [
        "def choose_date(date_):\n",
        "  date_in_format = re.sub(r'(\\d{2})[\\.\\/\\\\\\-\\,]{0,1}(\\d{2})[\\.\\/\\\\\\-\\,]{0,1}(\\d{2,4})', r'\\1/\\2/\\3', date_)\n",
        "  if datetime.strptime(date_in_format, '%d/%m/%Y') < datetime(1992, 7, 1):\n",
        "    print('Error! Enter a date later than 01-07-1992')\n",
        "  elif datetime.strptime(date_in_format, '%d/%m/%Y') > datetime.today():\n",
        "    print('Error! Enter the current date or earlier')\n",
        "  else:\n",
        "    page_ = r'http://www.cbr.ru/scripts/XML_daily.asp?date_req=' + date_in_format + ''\n",
        "    df = pd.read_xml(page_, encoding='windows-1251')\n",
        "    return df"
      ],
      "metadata": {
        "id": "ZCEnN0C2qfWX"
      },
      "execution_count": 10,
      "outputs": []
    },
    {
      "cell_type": "code",
      "source": [
        "date_ = input('Enter the date to request the exchange rate in the format DD/MM/YYYY\\n')\n",
        "choose_date(date_)"
      ],
      "metadata": {
        "colab": {
          "base_uri": "https://localhost:8080/",
          "height": 1000
        },
        "id": "IdONQtMm1xeQ",
        "outputId": "ee003087-a230-47e6-fd79-730929d4f7f9"
      },
      "execution_count": 11,
      "outputs": [
        {
          "name": "stdout",
          "output_type": "stream",
          "text": [
            "Enter the date to request the exchange rate in the format DD/MM/YYYY\n",
            "12052022\n"
          ]
        },
        {
          "output_type": "execute_result",
          "data": {
            "text/plain": [
              "         ID  NumCode CharCode  Nominal  \\\n",
              "0    R01010       36      AUD        1   \n",
              "1   R01020A      944      AZN        1   \n",
              "2    R01035      826      GBP        1   \n",
              "3    R01060       51      AMD      100   \n",
              "4   R01090B      933      BYN        1   \n",
              "5    R01100      975      BGN        1   \n",
              "6    R01115      986      BRL        1   \n",
              "7    R01135      348      HUF      100   \n",
              "8    R01200      344      HKD       10   \n",
              "9    R01215      208      DKK       10   \n",
              "10   R01235      840      USD        1   \n",
              "11   R01239      978      EUR        1   \n",
              "12   R01270      356      INR      100   \n",
              "13   R01335      398      KZT      100   \n",
              "14   R01350      124      CAD        1   \n",
              "15   R01370      417      KGS      100   \n",
              "16   R01375      156      CNY        1   \n",
              "17   R01500      498      MDL       10   \n",
              "18   R01535      578      NOK       10   \n",
              "19   R01565      985      PLN        1   \n",
              "20  R01585F      946      RON        1   \n",
              "21   R01589      960      XDR        1   \n",
              "22   R01625      702      SGD        1   \n",
              "23   R01670      972      TJS       10   \n",
              "24  R01700J      949      TRY       10   \n",
              "25  R01710A      934      TMT        1   \n",
              "26   R01717      860      UZS    10000   \n",
              "27   R01720      980      UAH       10   \n",
              "28   R01760      203      CZK       10   \n",
              "29   R01770      752      SEK       10   \n",
              "30   R01775      756      CHF        1   \n",
              "31   R01810      710      ZAR       10   \n",
              "32   R01815      410      KRW     1000   \n",
              "33   R01820      392      JPY      100   \n",
              "\n",
              "                                        Name    Value  \n",
              "0                       Австралийский доллар  47,8775  \n",
              "1                      Азербайджанский манат  40,4935  \n",
              "2   Фунт стерлингов Соединенного королевства  84,7613  \n",
              "3                           Армянских драмов  14,7448  \n",
              "4                          Белорусский рубль  26,5326  \n",
              "5                             Болгарский лев  37,1460  \n",
              "6                           Бразильский реал  13,3962  \n",
              "7                        Венгерских форинтов  19,1714  \n",
              "8                       Гонконгских долларов  87,8495  \n",
              "9                               Датских крон  97,6702  \n",
              "10                                Доллар США  68,8389  \n",
              "11                                      Евро  72,6314  \n",
              "12                           Индийских рупий  90,0042  \n",
              "13                       Казахстанских тенге  15,8443  \n",
              "14                          Канадский доллар  52,9042  \n",
              "15                          Киргизских сомов  83,2817  \n",
              "16                            Китайский юань  10,2029  \n",
              "17                           Молдавских леев  36,5649  \n",
              "18                           Норвежских крон  71,0089  \n",
              "19                           Польский злотый  15,5973  \n",
              "20                             Румынский лей  14,6885  \n",
              "21     СДР (специальные права заимствования)  92,1712  \n",
              "22                       Сингапурский доллар  49,5636  \n",
              "23                         Таджикских сомони  55,0932  \n",
              "24                              Турецких лир  45,2700  \n",
              "25                   Новый туркменский манат  19,6683  \n",
              "26                           Узбекских сумов  61,6724  \n",
              "27                         Украинских гривен  23,2172  \n",
              "28                              Чешских крон  29,0496  \n",
              "29                             Шведских крон  68,7200  \n",
              "30                         Швейцарский франк  69,6468  \n",
              "31                    Южноафриканских рэндов  42,8823  \n",
              "32                      Вон Республики Корея  53,9786  \n",
              "33                              Японских иен  52,7906  "
            ],
            "text/html": [
              "\n",
              "  <div id=\"df-bc0fda75-02aa-410f-b24a-49e3a8918a23\">\n",
              "    <div class=\"colab-df-container\">\n",
              "      <div>\n",
              "<style scoped>\n",
              "    .dataframe tbody tr th:only-of-type {\n",
              "        vertical-align: middle;\n",
              "    }\n",
              "\n",
              "    .dataframe tbody tr th {\n",
              "        vertical-align: top;\n",
              "    }\n",
              "\n",
              "    .dataframe thead th {\n",
              "        text-align: right;\n",
              "    }\n",
              "</style>\n",
              "<table border=\"1\" class=\"dataframe\">\n",
              "  <thead>\n",
              "    <tr style=\"text-align: right;\">\n",
              "      <th></th>\n",
              "      <th>ID</th>\n",
              "      <th>NumCode</th>\n",
              "      <th>CharCode</th>\n",
              "      <th>Nominal</th>\n",
              "      <th>Name</th>\n",
              "      <th>Value</th>\n",
              "    </tr>\n",
              "  </thead>\n",
              "  <tbody>\n",
              "    <tr>\n",
              "      <th>0</th>\n",
              "      <td>R01010</td>\n",
              "      <td>36</td>\n",
              "      <td>AUD</td>\n",
              "      <td>1</td>\n",
              "      <td>Австралийский доллар</td>\n",
              "      <td>47,8775</td>\n",
              "    </tr>\n",
              "    <tr>\n",
              "      <th>1</th>\n",
              "      <td>R01020A</td>\n",
              "      <td>944</td>\n",
              "      <td>AZN</td>\n",
              "      <td>1</td>\n",
              "      <td>Азербайджанский манат</td>\n",
              "      <td>40,4935</td>\n",
              "    </tr>\n",
              "    <tr>\n",
              "      <th>2</th>\n",
              "      <td>R01035</td>\n",
              "      <td>826</td>\n",
              "      <td>GBP</td>\n",
              "      <td>1</td>\n",
              "      <td>Фунт стерлингов Соединенного королевства</td>\n",
              "      <td>84,7613</td>\n",
              "    </tr>\n",
              "    <tr>\n",
              "      <th>3</th>\n",
              "      <td>R01060</td>\n",
              "      <td>51</td>\n",
              "      <td>AMD</td>\n",
              "      <td>100</td>\n",
              "      <td>Армянских драмов</td>\n",
              "      <td>14,7448</td>\n",
              "    </tr>\n",
              "    <tr>\n",
              "      <th>4</th>\n",
              "      <td>R01090B</td>\n",
              "      <td>933</td>\n",
              "      <td>BYN</td>\n",
              "      <td>1</td>\n",
              "      <td>Белорусский рубль</td>\n",
              "      <td>26,5326</td>\n",
              "    </tr>\n",
              "    <tr>\n",
              "      <th>5</th>\n",
              "      <td>R01100</td>\n",
              "      <td>975</td>\n",
              "      <td>BGN</td>\n",
              "      <td>1</td>\n",
              "      <td>Болгарский лев</td>\n",
              "      <td>37,1460</td>\n",
              "    </tr>\n",
              "    <tr>\n",
              "      <th>6</th>\n",
              "      <td>R01115</td>\n",
              "      <td>986</td>\n",
              "      <td>BRL</td>\n",
              "      <td>1</td>\n",
              "      <td>Бразильский реал</td>\n",
              "      <td>13,3962</td>\n",
              "    </tr>\n",
              "    <tr>\n",
              "      <th>7</th>\n",
              "      <td>R01135</td>\n",
              "      <td>348</td>\n",
              "      <td>HUF</td>\n",
              "      <td>100</td>\n",
              "      <td>Венгерских форинтов</td>\n",
              "      <td>19,1714</td>\n",
              "    </tr>\n",
              "    <tr>\n",
              "      <th>8</th>\n",
              "      <td>R01200</td>\n",
              "      <td>344</td>\n",
              "      <td>HKD</td>\n",
              "      <td>10</td>\n",
              "      <td>Гонконгских долларов</td>\n",
              "      <td>87,8495</td>\n",
              "    </tr>\n",
              "    <tr>\n",
              "      <th>9</th>\n",
              "      <td>R01215</td>\n",
              "      <td>208</td>\n",
              "      <td>DKK</td>\n",
              "      <td>10</td>\n",
              "      <td>Датских крон</td>\n",
              "      <td>97,6702</td>\n",
              "    </tr>\n",
              "    <tr>\n",
              "      <th>10</th>\n",
              "      <td>R01235</td>\n",
              "      <td>840</td>\n",
              "      <td>USD</td>\n",
              "      <td>1</td>\n",
              "      <td>Доллар США</td>\n",
              "      <td>68,8389</td>\n",
              "    </tr>\n",
              "    <tr>\n",
              "      <th>11</th>\n",
              "      <td>R01239</td>\n",
              "      <td>978</td>\n",
              "      <td>EUR</td>\n",
              "      <td>1</td>\n",
              "      <td>Евро</td>\n",
              "      <td>72,6314</td>\n",
              "    </tr>\n",
              "    <tr>\n",
              "      <th>12</th>\n",
              "      <td>R01270</td>\n",
              "      <td>356</td>\n",
              "      <td>INR</td>\n",
              "      <td>100</td>\n",
              "      <td>Индийских рупий</td>\n",
              "      <td>90,0042</td>\n",
              "    </tr>\n",
              "    <tr>\n",
              "      <th>13</th>\n",
              "      <td>R01335</td>\n",
              "      <td>398</td>\n",
              "      <td>KZT</td>\n",
              "      <td>100</td>\n",
              "      <td>Казахстанских тенге</td>\n",
              "      <td>15,8443</td>\n",
              "    </tr>\n",
              "    <tr>\n",
              "      <th>14</th>\n",
              "      <td>R01350</td>\n",
              "      <td>124</td>\n",
              "      <td>CAD</td>\n",
              "      <td>1</td>\n",
              "      <td>Канадский доллар</td>\n",
              "      <td>52,9042</td>\n",
              "    </tr>\n",
              "    <tr>\n",
              "      <th>15</th>\n",
              "      <td>R01370</td>\n",
              "      <td>417</td>\n",
              "      <td>KGS</td>\n",
              "      <td>100</td>\n",
              "      <td>Киргизских сомов</td>\n",
              "      <td>83,2817</td>\n",
              "    </tr>\n",
              "    <tr>\n",
              "      <th>16</th>\n",
              "      <td>R01375</td>\n",
              "      <td>156</td>\n",
              "      <td>CNY</td>\n",
              "      <td>1</td>\n",
              "      <td>Китайский юань</td>\n",
              "      <td>10,2029</td>\n",
              "    </tr>\n",
              "    <tr>\n",
              "      <th>17</th>\n",
              "      <td>R01500</td>\n",
              "      <td>498</td>\n",
              "      <td>MDL</td>\n",
              "      <td>10</td>\n",
              "      <td>Молдавских леев</td>\n",
              "      <td>36,5649</td>\n",
              "    </tr>\n",
              "    <tr>\n",
              "      <th>18</th>\n",
              "      <td>R01535</td>\n",
              "      <td>578</td>\n",
              "      <td>NOK</td>\n",
              "      <td>10</td>\n",
              "      <td>Норвежских крон</td>\n",
              "      <td>71,0089</td>\n",
              "    </tr>\n",
              "    <tr>\n",
              "      <th>19</th>\n",
              "      <td>R01565</td>\n",
              "      <td>985</td>\n",
              "      <td>PLN</td>\n",
              "      <td>1</td>\n",
              "      <td>Польский злотый</td>\n",
              "      <td>15,5973</td>\n",
              "    </tr>\n",
              "    <tr>\n",
              "      <th>20</th>\n",
              "      <td>R01585F</td>\n",
              "      <td>946</td>\n",
              "      <td>RON</td>\n",
              "      <td>1</td>\n",
              "      <td>Румынский лей</td>\n",
              "      <td>14,6885</td>\n",
              "    </tr>\n",
              "    <tr>\n",
              "      <th>21</th>\n",
              "      <td>R01589</td>\n",
              "      <td>960</td>\n",
              "      <td>XDR</td>\n",
              "      <td>1</td>\n",
              "      <td>СДР (специальные права заимствования)</td>\n",
              "      <td>92,1712</td>\n",
              "    </tr>\n",
              "    <tr>\n",
              "      <th>22</th>\n",
              "      <td>R01625</td>\n",
              "      <td>702</td>\n",
              "      <td>SGD</td>\n",
              "      <td>1</td>\n",
              "      <td>Сингапурский доллар</td>\n",
              "      <td>49,5636</td>\n",
              "    </tr>\n",
              "    <tr>\n",
              "      <th>23</th>\n",
              "      <td>R01670</td>\n",
              "      <td>972</td>\n",
              "      <td>TJS</td>\n",
              "      <td>10</td>\n",
              "      <td>Таджикских сомони</td>\n",
              "      <td>55,0932</td>\n",
              "    </tr>\n",
              "    <tr>\n",
              "      <th>24</th>\n",
              "      <td>R01700J</td>\n",
              "      <td>949</td>\n",
              "      <td>TRY</td>\n",
              "      <td>10</td>\n",
              "      <td>Турецких лир</td>\n",
              "      <td>45,2700</td>\n",
              "    </tr>\n",
              "    <tr>\n",
              "      <th>25</th>\n",
              "      <td>R01710A</td>\n",
              "      <td>934</td>\n",
              "      <td>TMT</td>\n",
              "      <td>1</td>\n",
              "      <td>Новый туркменский манат</td>\n",
              "      <td>19,6683</td>\n",
              "    </tr>\n",
              "    <tr>\n",
              "      <th>26</th>\n",
              "      <td>R01717</td>\n",
              "      <td>860</td>\n",
              "      <td>UZS</td>\n",
              "      <td>10000</td>\n",
              "      <td>Узбекских сумов</td>\n",
              "      <td>61,6724</td>\n",
              "    </tr>\n",
              "    <tr>\n",
              "      <th>27</th>\n",
              "      <td>R01720</td>\n",
              "      <td>980</td>\n",
              "      <td>UAH</td>\n",
              "      <td>10</td>\n",
              "      <td>Украинских гривен</td>\n",
              "      <td>23,2172</td>\n",
              "    </tr>\n",
              "    <tr>\n",
              "      <th>28</th>\n",
              "      <td>R01760</td>\n",
              "      <td>203</td>\n",
              "      <td>CZK</td>\n",
              "      <td>10</td>\n",
              "      <td>Чешских крон</td>\n",
              "      <td>29,0496</td>\n",
              "    </tr>\n",
              "    <tr>\n",
              "      <th>29</th>\n",
              "      <td>R01770</td>\n",
              "      <td>752</td>\n",
              "      <td>SEK</td>\n",
              "      <td>10</td>\n",
              "      <td>Шведских крон</td>\n",
              "      <td>68,7200</td>\n",
              "    </tr>\n",
              "    <tr>\n",
              "      <th>30</th>\n",
              "      <td>R01775</td>\n",
              "      <td>756</td>\n",
              "      <td>CHF</td>\n",
              "      <td>1</td>\n",
              "      <td>Швейцарский франк</td>\n",
              "      <td>69,6468</td>\n",
              "    </tr>\n",
              "    <tr>\n",
              "      <th>31</th>\n",
              "      <td>R01810</td>\n",
              "      <td>710</td>\n",
              "      <td>ZAR</td>\n",
              "      <td>10</td>\n",
              "      <td>Южноафриканских рэндов</td>\n",
              "      <td>42,8823</td>\n",
              "    </tr>\n",
              "    <tr>\n",
              "      <th>32</th>\n",
              "      <td>R01815</td>\n",
              "      <td>410</td>\n",
              "      <td>KRW</td>\n",
              "      <td>1000</td>\n",
              "      <td>Вон Республики Корея</td>\n",
              "      <td>53,9786</td>\n",
              "    </tr>\n",
              "    <tr>\n",
              "      <th>33</th>\n",
              "      <td>R01820</td>\n",
              "      <td>392</td>\n",
              "      <td>JPY</td>\n",
              "      <td>100</td>\n",
              "      <td>Японских иен</td>\n",
              "      <td>52,7906</td>\n",
              "    </tr>\n",
              "  </tbody>\n",
              "</table>\n",
              "</div>\n",
              "      <button class=\"colab-df-convert\" onclick=\"convertToInteractive('df-bc0fda75-02aa-410f-b24a-49e3a8918a23')\"\n",
              "              title=\"Convert this dataframe to an interactive table.\"\n",
              "              style=\"display:none;\">\n",
              "        \n",
              "  <svg xmlns=\"http://www.w3.org/2000/svg\" height=\"24px\"viewBox=\"0 0 24 24\"\n",
              "       width=\"24px\">\n",
              "    <path d=\"M0 0h24v24H0V0z\" fill=\"none\"/>\n",
              "    <path d=\"M18.56 5.44l.94 2.06.94-2.06 2.06-.94-2.06-.94-.94-2.06-.94 2.06-2.06.94zm-11 1L8.5 8.5l.94-2.06 2.06-.94-2.06-.94L8.5 2.5l-.94 2.06-2.06.94zm10 10l.94 2.06.94-2.06 2.06-.94-2.06-.94-.94-2.06-.94 2.06-2.06.94z\"/><path d=\"M17.41 7.96l-1.37-1.37c-.4-.4-.92-.59-1.43-.59-.52 0-1.04.2-1.43.59L10.3 9.45l-7.72 7.72c-.78.78-.78 2.05 0 2.83L4 21.41c.39.39.9.59 1.41.59.51 0 1.02-.2 1.41-.59l7.78-7.78 2.81-2.81c.8-.78.8-2.07 0-2.86zM5.41 20L4 18.59l7.72-7.72 1.47 1.35L5.41 20z\"/>\n",
              "  </svg>\n",
              "      </button>\n",
              "      \n",
              "  <style>\n",
              "    .colab-df-container {\n",
              "      display:flex;\n",
              "      flex-wrap:wrap;\n",
              "      gap: 12px;\n",
              "    }\n",
              "\n",
              "    .colab-df-convert {\n",
              "      background-color: #E8F0FE;\n",
              "      border: none;\n",
              "      border-radius: 50%;\n",
              "      cursor: pointer;\n",
              "      display: none;\n",
              "      fill: #1967D2;\n",
              "      height: 32px;\n",
              "      padding: 0 0 0 0;\n",
              "      width: 32px;\n",
              "    }\n",
              "\n",
              "    .colab-df-convert:hover {\n",
              "      background-color: #E2EBFA;\n",
              "      box-shadow: 0px 1px 2px rgba(60, 64, 67, 0.3), 0px 1px 3px 1px rgba(60, 64, 67, 0.15);\n",
              "      fill: #174EA6;\n",
              "    }\n",
              "\n",
              "    [theme=dark] .colab-df-convert {\n",
              "      background-color: #3B4455;\n",
              "      fill: #D2E3FC;\n",
              "    }\n",
              "\n",
              "    [theme=dark] .colab-df-convert:hover {\n",
              "      background-color: #434B5C;\n",
              "      box-shadow: 0px 1px 3px 1px rgba(0, 0, 0, 0.15);\n",
              "      filter: drop-shadow(0px 1px 2px rgba(0, 0, 0, 0.3));\n",
              "      fill: #FFFFFF;\n",
              "    }\n",
              "  </style>\n",
              "\n",
              "      <script>\n",
              "        const buttonEl =\n",
              "          document.querySelector('#df-bc0fda75-02aa-410f-b24a-49e3a8918a23 button.colab-df-convert');\n",
              "        buttonEl.style.display =\n",
              "          google.colab.kernel.accessAllowed ? 'block' : 'none';\n",
              "\n",
              "        async function convertToInteractive(key) {\n",
              "          const element = document.querySelector('#df-bc0fda75-02aa-410f-b24a-49e3a8918a23');\n",
              "          const dataTable =\n",
              "            await google.colab.kernel.invokeFunction('convertToInteractive',\n",
              "                                                     [key], {});\n",
              "          if (!dataTable) return;\n",
              "\n",
              "          const docLinkHtml = 'Like what you see? Visit the ' +\n",
              "            '<a target=\"_blank\" href=https://colab.research.google.com/notebooks/data_table.ipynb>data table notebook</a>'\n",
              "            + ' to learn more about interactive tables.';\n",
              "          element.innerHTML = '';\n",
              "          dataTable['output_type'] = 'display_data';\n",
              "          await google.colab.output.renderOutput(dataTable, element);\n",
              "          const docLink = document.createElement('div');\n",
              "          docLink.innerHTML = docLinkHtml;\n",
              "          element.appendChild(docLink);\n",
              "        }\n",
              "      </script>\n",
              "    </div>\n",
              "  </div>\n",
              "  "
            ]
          },
          "metadata": {},
          "execution_count": 11
        }
      ]
    }
  ],
  "metadata": {
    "colab": {
      "name": "Homework 2 Numpy, Pandas",
      "provenance": [],
      "collapsed_sections": []
    },
    "kernelspec": {
      "display_name": "Python 3",
      "name": "python3"
    },
    "language_info": {
      "name": "python"
    }
  },
  "nbformat": 4,
  "nbformat_minor": 0
}