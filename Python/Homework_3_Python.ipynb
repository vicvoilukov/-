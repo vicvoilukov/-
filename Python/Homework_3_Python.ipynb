{
  "cells": [
    {
      "cell_type": "markdown",
      "metadata": {
        "id": "8Xpan4rpTcHA"
      },
      "source": [
        "# **Task 1**"
      ]
    },
    {
      "cell_type": "markdown",
      "source": [
        "Given variable that is stores a dictionary containing geo-tags for each user (an example of a data structure is given below). You need to write a program that will display a lot of unique geo-tags of all users.\n"
      ],
      "metadata": {
        "id": "iuo4vRBFHWJk"
      }
    },
    {
      "cell_type": "code",
      "execution_count": 1,
      "metadata": {
        "id": "CDjmo0IBTVYw"
      },
      "outputs": [],
      "source": [
        "ids = {'user1': [213, 213, 213, 15, 213], \n",
        "       'user2': [54, 54, 119, 119, 119], \n",
        "       'user3': [213, 98, 98, 35]}"
      ]
    },
    {
      "cell_type": "code",
      "source": [
        "print('Result:\\n', set(sum(ids.values(), [])))"
      ],
      "metadata": {
        "colab": {
          "base_uri": "https://localhost:8080/"
        },
        "id": "ZsgwcdxxHuTJ",
        "outputId": "65402c31-3503-486f-c10c-628f9bf0e0d8"
      },
      "execution_count": 5,
      "outputs": [
        {
          "output_type": "stream",
          "name": "stdout",
          "text": [
            "Result:\n",
            " {98, 35, 15, 213, 54, 119}\n"
          ]
        }
      ]
    },
    {
      "cell_type": "code",
      "execution_count": 7,
      "metadata": {
        "colab": {
          "base_uri": "https://localhost:8080/"
        },
        "id": "qu9qHv3Jf39n",
        "outputId": "68b0a620-7f19-40f6-ab3c-44dcfa6a1e18"
      },
      "outputs": [
        {
          "output_type": "stream",
          "name": "stdout",
          "text": [
            "Result:\n",
            " {98, 35, 15, 213, 54, 119}\n"
          ]
        }
      ],
      "source": [
        "result = []\n",
        "for i in ids.values():\n",
        "  for r in i:\n",
        "    result.append(r)\n",
        "\n",
        "print('Result:\\n', set(result))"
      ]
    },
    {
      "cell_type": "markdown",
      "metadata": {
        "id": "BfhC8GYZBLBy"
      },
      "source": [
        "# **Task 2**\n"
      ]
    },
    {
      "cell_type": "markdown",
      "source": [
        "Given a variable in which a list of user search queries (an example of data structure is below). You need to write a program that will display the number of words in queries in the required form.\n"
      ],
      "metadata": {
        "id": "0HjUkPsTJUny"
      }
    },
    {
      "cell_type": "code",
      "execution_count": 8,
      "metadata": {
        "id": "Xb1AZx6ABeCr"
      },
      "outputs": [],
      "source": [
        "queries = [\n",
        "    'смотреть сериалы онлайн',\n",
        "    'новости спорта',\n",
        "    'афиша кино',\n",
        "    'курс доллара',\n",
        "    'сериалы этим летом',\n",
        "    'курс по питону',\n",
        "    'сериалы про спорт',\n",
        "]"
      ]
    },
    {
      "cell_type": "code",
      "execution_count": 14,
      "metadata": {
        "colab": {
          "base_uri": "https://localhost:8080/"
        },
        "id": "b8M-3q9VI6Eu",
        "outputId": "6b00d70f-0897-4c49-aec8-074b8fefd426"
      },
      "outputs": [
        {
          "output_type": "stream",
          "name": "stdout",
          "text": [
            "Search queries containing 2 word(s):  42.86%\n",
            "Search queries containing 3 word(s):  57.14%\n"
          ]
        }
      ],
      "source": [
        "length_of_query = [len(request.split()) for request in queries]\n",
        "for n in set(length_of_query):\n",
        "  print(f'Search queries containing {n} word(s): {length_of_query.count(n)/len(queries): .2%}')"
      ]
    },
    {
      "cell_type": "markdown",
      "metadata": {
        "id": "nAxSOp3ZGbLY"
      },
      "source": [
        "# **Task 3**"
      ]
    },
    {
      "cell_type": "markdown",
      "source": [
        "Given a variable that stores information about the costs and revenue of advertising campaigns for various sources. Supplement the original structure with an ROI indicator, which is calculated by the formula: (revenue / cost - 1) * 100"
      ],
      "metadata": {
        "id": "dMTseFnXLTSl"
      }
    },
    {
      "cell_type": "code",
      "execution_count": null,
      "metadata": {
        "id": "6NuFQu3OGcN-"
      },
      "outputs": [],
      "source": [
        "results = {\n",
        "    'vk': {'revenue': 103, 'cost': 98},\n",
        "    'yandex': {'revenue': 179, 'cost': 153},\n",
        "    'facebook': {'revenue': 103, 'cost': 110},\n",
        "    'adwords': {'revenue': 35, 'cost': 34},\n",
        "    'twitter': {'revenue': 11, 'cost': 24},\n",
        "}"
      ]
    },
    {
      "cell_type": "code",
      "source": [
        "print(list(results)"
      ],
      "metadata": {
        "colab": {
          "base_uri": "https://localhost:8080/"
        },
        "id": "aNx_tqlfbiH6",
        "outputId": "ec89471b-15d4-463a-ef87-1e07c27de44a"
      },
      "execution_count": null,
      "outputs": [
        {
          "output_type": "stream",
          "name": "stdout",
          "text": [
            "['vk', 'yandex', 'facebook', 'adwords', 'twitter']\n"
          ]
        }
      ]
    },
    {
      "cell_type": "code",
      "execution_count": null,
      "metadata": {
        "colab": {
          "base_uri": "https://localhost:8080/"
        },
        "id": "G50bQ5sPCklZ",
        "outputId": "38b44917-90fd-4fcc-f2d2-844f97383ad0"
      },
      "outputs": [
        {
          "output_type": "execute_result",
          "data": {
            "text/plain": [
              "{'adwords': {'ROI': '2.94', 'cost': 34, 'revenue': 35},\n",
              " 'facebook': {'ROI': '-6.36', 'cost': 110, 'revenue': 103},\n",
              " 'twitter': {'ROI': '-54.17', 'cost': 24, 'revenue': 11},\n",
              " 'vk': {'ROI': '5.1', 'cost': 98, 'revenue': 103},\n",
              " 'yandex': {'ROI': '16.99', 'cost': 153, 'revenue': 179}}"
            ]
          },
          "metadata": {},
          "execution_count": 14
        }
      ],
      "source": [
        "for value in results.values():\n",
        "    value['ROI'] = (f\"{round((value['revenue'] / value['cost'] - 1) * 100, 2)}\")\n",
        "results"
      ]
    },
    {
      "cell_type": "markdown",
      "metadata": {
        "id": "zRm-1hpuBa6R"
      },
      "source": [
        "# **Task 4**"
      ]
    },
    {
      "cell_type": "markdown",
      "source": [
        "A variable is given that stores statistics of advertising channels by sales volume (an example of a data structure is given below). Write a program that returns the name of the channel with the highest sales volume."
      ],
      "metadata": {
        "id": "D6OLA54jLyBA"
      }
    },
    {
      "cell_type": "code",
      "execution_count": 16,
      "metadata": {
        "id": "iuRfvVfaBeCk"
      },
      "outputs": [],
      "source": [
        "stats = {'facebook': 55, 'yandex': 115, 'vk': 120, 'google': 99, 'email': 42, 'ok': 98}"
      ]
    },
    {
      "cell_type": "code",
      "execution_count": 17,
      "metadata": {
        "colab": {
          "base_uri": "https://localhost:8080/"
        },
        "id": "-ZVdaks7BmtG",
        "outputId": "45bc6b88-e005-40d2-94a8-c8751c3ff299"
      },
      "outputs": [
        {
          "output_type": "stream",
          "name": "stdout",
          "text": [
            "The maximum volume of sales on the advertising channel: vk\n"
          ]
        }
      ],
      "source": [
        "for company, ads in stats.items():\n",
        "  if ads == max(stats.values()):\n",
        "    print('The maximum volume of sales on the advertising channel:', str(company))"
      ]
    },
    {
      "cell_type": "markdown",
      "metadata": {
        "id": "oaMz_7QlEZtx"
      },
      "source": [
        "# **Task 5 (optional)**"
      ]
    },
    {
      "cell_type": "markdown",
      "source": [
        "Given a list of arbitrary length. write code to build a dictionary based on the original list, nested as deep as the length of the original list."
      ],
      "metadata": {
        "id": "lvDDIApMMpAJ"
      }
    },
    {
      "cell_type": "code",
      "execution_count": 18,
      "metadata": {
        "id": "lRcUf7VQEa4G"
      },
      "outputs": [],
      "source": [
        "my_list = ['2018-01-01', 'yandex', 'cpc', 100]"
      ]
    },
    {
      "cell_type": "code",
      "source": [
        "my_list = ['a', 'b', 'c', 'd', 'e', 'f']"
      ],
      "metadata": {
        "id": "2WKsSkqJoxNM"
      },
      "execution_count": 20,
      "outputs": []
    },
    {
      "cell_type": "code",
      "source": [
        "my_dict = {}\n",
        "for i in my_list[::-1]:\n",
        "  my_dict = {i : my_dict}\n",
        "my_dict"
      ],
      "metadata": {
        "colab": {
          "base_uri": "https://localhost:8080/"
        },
        "id": "jNdrYtxjHzAF",
        "outputId": "34a0d8f3-f226-4dc7-b7e2-8b859e3431e0"
      },
      "execution_count": 21,
      "outputs": [
        {
          "output_type": "execute_result",
          "data": {
            "text/plain": [
              "{'a': {'b': {'c': {'d': {'e': {'f': {}}}}}}}"
            ]
          },
          "metadata": {},
          "execution_count": 21
        }
      ]
    },
    {
      "cell_type": "markdown",
      "source": [
        "# **Task 6 (optional)**"
      ],
      "metadata": {
        "id": "2WMIHevpPscV"
      }
    },
    {
      "cell_type": "markdown",
      "source": [
        "Given a recipe book with information on how many ingredients are needed to prepare a dish per serving (an example of data is presented below).\n",
        "Write a program that will prompt the user for the number of servings for preparing these dishes and display information about the total number of required ingredients in the specified form.\n",
        "\n",
        "**Attention!** Identical ingredients with different dimensions must be counted separately!"
      ],
      "metadata": {
        "id": "oJqNLfpIPJjq"
      }
    },
    {
      "cell_type": "code",
      "source": [
        "cook_book = {\n",
        "  'Salad': [\n",
        "     {'ingridient_name': 'cheese', 'quantity': 50, 'measure': 'gr'},\n",
        "     {'ingridient_name': 'tomateos', 'quantity': 2, 'measure': 'pcs'},\n",
        "     {'ingridient_name': 'cocumbers', 'quantity': 20, 'measure': 'gr'},\n",
        "     {'ingridient_name': 'olives', 'quantity': 10, 'measure': 'gr'},\n",
        "     {'ingridient_name': 'olive oil', 'quantity': 20, 'measure': 'ml'},\n",
        "     {'ingridient_name': 'calad', 'quantity': 10, 'measure': 'gr'},\n",
        "     {'ingridient_name': 'pepper', 'quantity': 20, 'measure': 'gr'}\n",
        "    ],\n",
        "  'pizza': [\n",
        "     {'ingridient_name': 'cheese', 'quantity': 20, 'measure': 'gr'},\n",
        "     {'ingridient_name': 'sausage', 'quantity': 30, 'measure': 'gr'},\n",
        "     {'ingridient_name': 'bacon', 'quantity': 30, 'measure': 'gr'},\n",
        "     {'ingridient_name': 'olives', 'quantity': 10, 'measure': 'gr'},\n",
        "     {'ingridient_name': 'tomatoes', 'quantity': 20, 'measure': 'gr'},\n",
        "     {'ingridient_name': 'dough', 'quantity': 100, 'measure': 'gr'},   \n",
        "    ],\n",
        "  'lemonade': [\n",
        "     {'ingridient_name': 'lemon', 'quantity': 1, 'measure': 'pcs'},\n",
        "     {'ingridient_name': 'water', 'quantity': 200, 'measure': 'ml'},\n",
        "     {'ingridient_name': 'sugar', 'quantity': 10, 'measure': 'gr'},\n",
        "     {'ingridient_name': 'lime', 'quantity': 20, 'measure': 'gr'},    \n",
        "    ]\n",
        "}"
      ],
      "metadata": {
        "id": "wsA6mFTwPtxs"
      },
      "execution_count": 25,
      "outputs": []
    },
    {
      "cell_type": "code",
      "source": [
        "my_dict = {}\n",
        "n = int(input('Enter number of servings:\\n'))\n",
        "for value in cook_book.values():\n",
        "  for a in value:\n",
        "    t = (a['ingridient_name'], a['measure'])\n",
        "    if t in my_dict.keys():\n",
        "      my_dict[(t)] += a['quantity']\n",
        "    else:\n",
        "      my_dict[(t)] = a['quantity']\n",
        "for key, value in my_dict.items():\n",
        "  print(f\"{key[0].capitalize()}: {value * n} {key[1]}\")"
      ],
      "metadata": {
        "colab": {
          "base_uri": "https://localhost:8080/"
        },
        "id": "AWLfvf_GU_Qo",
        "outputId": "b66ff6ea-0d8e-4e41-d214-5be03dba9780"
      },
      "execution_count": 26,
      "outputs": [
        {
          "output_type": "stream",
          "name": "stdout",
          "text": [
            "Enter number of servings:\n",
            "3\n",
            "Cheese: 210 gr\n",
            "Tomateos: 6 pcs\n",
            "Cocumbers: 60 gr\n",
            "Olives: 60 gr\n",
            "Olive oil: 60 ml\n",
            "Calad: 30 gr\n",
            "Pepper: 60 gr\n",
            "Sausage: 90 gr\n",
            "Bacon: 90 gr\n",
            "Tomatoes: 60 gr\n",
            "Dough: 300 gr\n",
            "Lemon: 3 pcs\n",
            "Water: 600 ml\n",
            "Sugar: 30 gr\n",
            "Lime: 60 gr\n"
          ]
        }
      ]
    }
  ],
  "metadata": {
    "colab": {
      "name": "Homework 3 Python",
      "provenance": [],
      "collapsed_sections": []
    },
    "kernelspec": {
      "display_name": "Python 3",
      "name": "python3"
    },
    "language_info": {
      "name": "python"
    }
  },
  "nbformat": 4,
  "nbformat_minor": 0
}