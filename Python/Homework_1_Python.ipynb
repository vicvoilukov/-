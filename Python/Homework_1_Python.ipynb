{
  "nbformat": 4,
  "nbformat_minor": 0,
  "metadata": {
    "colab": {
      "name": "Homework 1 Python",
      "provenance": [],
      "toc_visible": true
    },
    "kernelspec": {
      "name": "python3",
      "display_name": "Python 3"
    },
    "language_info": {
      "name": "python"
    }
  },
  "cells": [
    {
      "cell_type": "markdown",
      "source": [
        "**Task 1**"
      ],
      "metadata": {
        "id": "0gsvirqpVUiH"
      }
    },
    {
      "cell_type": "markdown",
      "source": [
        "Given 2 variables that store strings of arbitrary length: phrase_1 and phrase_2.\n",
        "Write code that checks which of these strings is longer."
      ],
      "metadata": {
        "id": "-EGg6v2fcvsn"
      }
    },
    {
      "cell_type": "code",
      "source": [
        "phrase_1 = 'Насколько проще было бы писать программы, если бы не заказчики'\n",
        "phrase_2 = '640Кб должно хватить для любых задач. Билл Гейтс (по легенде)'\n",
        "\n",
        "  if len(phrase_1) > len(phrase_2):\n",
        "    print('Фраза 1 длиннее фразы 2')\n",
        "  elif len(phrase_1) < len(phrase_2):\n",
        "    print('Фраза 2 длиннее фразы 1')\n",
        "  else:\n",
        "    print('Фразы равной длины')"
      ],
      "metadata": {
        "colab": {
          "base_uri": "https://localhost:8080/"
        },
        "id": "OHDc3ZAnDM4O",
        "outputId": "18f59f10-4274-475a-aee5-cb52bb82dcf9"
      },
      "execution_count": null,
      "outputs": [
        {
          "output_type": "stream",
          "name": "stdout",
          "text": [
            "Фраза 1 длиннее фразы 2\n"
          ]
        }
      ]
    },
    {
      "cell_type": "code",
      "source": [
        "phrase_1 = '640Кб должно хватить для любых задач. Билл Гейтс (по легенде)'\n",
        "phrase_2 = 'Насколько проще было бы писать программы, если бы не заказчики'\n",
        "if len(phrase_1) > len(phrase_2):\n",
        "  print('Фраза 1 длиннее фразы 2')\n",
        "elif len(phrase_1) < len(phrase_2):\n",
        "  print('Фраза 2 длиннее фразы 1')\n",
        "else:\n",
        "  print('Фразы равной длины')"
      ],
      "metadata": {
        "colab": {
          "base_uri": "https://localhost:8080/"
        },
        "id": "21H4_y_vDVlb",
        "outputId": "214e8908-b43b-47ef-f94e-d795a774a7c5"
      },
      "execution_count": null,
      "outputs": [
        {
          "output_type": "stream",
          "name": "stdout",
          "text": [
            "Фраза 2 длиннее фразы 1\n"
          ]
        }
      ]
    },
    {
      "cell_type": "code",
      "source": [
        "phrase_1 = 'Насколько проще было бы писать программы, если бы не заказчики'\n",
        "phrase_2 = 'Насколько проще было бы писать программы, если бы не заказчики'\n",
        "if len(phrase_1) > len(phrase_2):\n",
        "  print('Фраза 1 длиннее фразы 2')\n",
        "elif len(phrase_1) < len(phrase_2):\n",
        "  print('Фраза 2 длиннее фразы 1')\n",
        "else:\n",
        "  print('Фразы равной длины')"
      ],
      "metadata": {
        "colab": {
          "base_uri": "https://localhost:8080/"
        },
        "id": "Ylcn6Y-_GS7Z",
        "outputId": "b77a7d6e-5f23-427f-fcf8-097d3ab19bce"
      },
      "execution_count": null,
      "outputs": [
        {
          "output_type": "stream",
          "name": "stdout",
          "text": [
            "Фразы равной длины\n"
          ]
        }
      ]
    },
    {
      "cell_type": "markdown",
      "source": [
        "**Task 2**"
      ],
      "metadata": {
        "id": "e0usSb9nVa-p"
      }
    },
    {
      "cell_type": "markdown",
      "source": [
        "Given a variable that stores a number (year). You need to write a program that will display whether a given year is a leap year or a common year."
      ],
      "metadata": {
        "id": "DyXNeU5XdITz"
      }
    },
    {
      "cell_type": "code",
      "source": [
        "year= int(input())\n",
        "if year%4 != 0:\n",
        "    print('Обычный год')\n",
        "elif year % 100 != 0:\n",
        "    print('Високосный год')\n",
        "elif year % 400 != 0:\n",
        "    print('Обычный год')\n",
        "else:\n",
        "  print('Високосный год')"
      ],
      "metadata": {
        "colab": {
          "base_uri": "https://localhost:8080/"
        },
        "id": "O2v-LGoaIy0x",
        "outputId": "0ca79f88-0cd2-41d4-873f-124c2b9adec8"
      },
      "execution_count": null,
      "outputs": [
        {
          "output_type": "stream",
          "name": "stdout",
          "text": [
            "2020\n",
            "Високосный год\n"
          ]
        }
      ]
    },
    {
      "cell_type": "markdown",
      "source": [
        "**Task 3**"
      ],
      "metadata": {
        "id": "dErT8q3QVfzc"
      }
    },
    {
      "cell_type": "markdown",
      "source": [
        "write a program that will ask the user for the month and date of birth and display the corresponding zodiac sign."
      ],
      "metadata": {
        "id": "qkmiwoJhdU6Q"
      }
    },
    {
      "cell_type": "code",
      "source": [
        "birth_day = int(input('Введите день рождения '))\n",
        "birth_month = input('Введите месяц рождения ')\n",
        "print('Ваш знак зодиака:')\n",
        "if birth_day >= 20 and birth_day <= 31 and birth_month == 'Январь':\n",
        "  print ('Водолей')\n",
        "elif birth_day >= 1 and birth_day <= 18 and birth_month == 'Февраль':\n",
        "  print ('Водолей')\n",
        "elif birth_day >= 19 and  birth_day <= 29 and birth_month == 'Февраль':\n",
        "  print ('Рыбы')\n",
        "elif birth_day >= 1 and birth_day <= 20 and birth_month == 'Март':\n",
        "  print ('Рыбы')\n",
        "elif birth_day >= 20 and birth_day <= 31 and birth_month == 'Март':\n",
        "  print ('Овен')\n",
        "elif birth_day >= 1 and birth_day <= 19 and birth_month == 'Апрель':\n",
        "  print ('Овен')\n",
        "elif birth_day >= 20 and birth_day <= 30 and birth_month == 'Апрель':\n",
        "  print ('Телец')\n",
        "elif birth_day >= 1 and birth_day <= 20 and birth_month == 'Май':\n",
        "  print ('Телец')\n",
        "elif birth_day >= 21 and birth_day <= 31 and birth_month == 'Май':\n",
        "  print ('Близнецы')\n",
        "elif birth_day >= 1 and birth_day <= 21 and birth_month == 'Июнь':\n",
        "  print ('Близнецы')\n",
        "elif birth_day >= 22 and birth_day <= 30 and birth_month == 'Июнь':\n",
        "  print ('Рак')\n",
        "elif birth_day >= 1 and birth_day <= 22 and birth_month == 'Июль':\n",
        "  print ('Рак')\n",
        "elif birth_day >= 23 and birth_day <= 31 and birth_month == 'Июль':\n",
        "  print ('Лев')\n",
        "elif birth_day >= 1 and birth_day <= 22 and birth_month == 'Август':\n",
        "  print ('Лев')\n",
        "elif birth_day >= 23 and birth_day <= 31 and birth_month == 'Август':\n",
        "  print ('Дева')\n",
        "elif birth_day >= 1 and birth_day <= 22 and birth_month == 'Сентябрь':\n",
        "  print ('Дева')\n",
        "elif birth_day >= 23 and birth_day <= 30 and birth_month == 'Сентябрь':\n",
        "  print ('Весы')\n",
        "elif birth_day >= 1 and birth_day <= 22 and birth_month == 'Октябрь':\n",
        "  print ('Весы')\n",
        "elif birth_day >= 23 and birth_day <= 31 and birth_month == 'Октябрь':\n",
        "  print ('Скорпион')\n",
        "elif birth_day >= 1 and birth_day <= 22 and birth_month == 'Ноябрь':\n",
        "  print ('Скорпион')\n",
        "elif birth_day >= 23 and birth_day <= 30 and birth_month == 'Ноябрь':\n",
        "  print ('Стрелец')\n",
        "elif birth_day >= 1 and birth_day <= 21 and birth_month == 'Декабрь':\n",
        "  print ('Стрелец')\n",
        "elif birth_day >= 22 and birth_day <= 31 and birth_month == 'Декабрь':\n",
        "  print ('Козерог')\n",
        "elif birth_day >= 1 and birth_day <= 19 and birth_month == 'Январь':\n",
        "  print ('Козерог')\n",
        "else:\n",
        "  print('Неверно введены данные')"
      ],
      "metadata": {
        "colab": {
          "base_uri": "https://localhost:8080/"
        },
        "id": "01kWfa-TLxS3",
        "outputId": "a1fb2d4c-c21b-450c-8e86-8f108227f99c"
      },
      "execution_count": null,
      "outputs": [
        {
          "output_type": "stream",
          "name": "stdout",
          "text": [
            "Введите день рождения 13\n",
            "Введите месяц рождения Апрель\n",
            "Ваш знак зодиака:\n",
            "Овен\n"
          ]
        }
      ]
    },
    {
      "cell_type": "markdown",
      "source": [
        "«Водолей» (20.1–18.2), «Рыбы» (19.2–20.3), «Овен» (21.3–19.4), «Телец» (20.4–20.5), \n",
        "«Близнецы» (21.5–21.6), «Рак» (22.6–22.7), «Лев» (23.7–22.8), «Дева» (23.8–22.9), «Весы» (23.9–22.10), \n",
        "«Скорпион» (23.10–22.11), «Стрелец» (23.11–21.12), «Козерог» (22.12–19.1)"
      ],
      "metadata": {
        "id": "nLu27z7mMLYp"
      }
    },
    {
      "cell_type": "markdown",
      "source": [
        "**Task 4**"
      ],
      "metadata": {
        "id": "J69KOsXWVlNW"
      }
    },
    {
      "cell_type": "markdown",
      "source": [
        "Write a program for the selection of packages according to the size of the goods. Dimensions (width, length, height) are stored in variables (in centimeters):\n",
        "\n",
        "Use the following rules:\n",
        "\n",
        "if each of the three dimensions is less than or equal to 15 centimeters, then display \"Box #1\";\n",
        "if at least one of the dimensions is greater than 15 centimeters but less than 50 centimeters, then print \"Box #2\";\n",
        "if the product length is more than 2 meters, then print \"Ski package\";\n",
        "in all other cases print \"Standard box #3\"."
      ],
      "metadata": {
        "id": "axj6c-xNdiGK"
      }
    },
    {
      "cell_type": "code",
      "source": [
        "width = int(input('Введите ширину товара '))\n",
        "length = int(input('Введите длину товара '))\n",
        "height = int(input('Введите высоту товара '))\n",
        "print('Ваш необходима:')\n",
        "if width <= 15 and length <= 15 and height <= 15:\n",
        "  print ('Коробка №1')\n",
        "elif width < 50 and length < 50 and height < 50:\n",
        "  print ('Коробка №2')\n",
        "elif length > 200:\n",
        "  print ('Упаковка для лыж')\n",
        "else:\n",
        "  print ('Стандартная коробка №3')"
      ],
      "metadata": {
        "id": "FaNQYkJWVor0",
        "colab": {
          "base_uri": "https://localhost:8080/"
        },
        "outputId": "6cb9ac8a-20e7-4e76-8b60-592718827522"
      },
      "execution_count": null,
      "outputs": [
        {
          "output_type": "stream",
          "name": "stdout",
          "text": [
            "Введите ширину товара 15\n",
            "Введите длину товара 230\n",
            "Введите высоту товара 20\n",
            "Ваш необходима:\n",
            "Упаковка для лыж\n"
          ]
        }
      ]
    },
    {
      "cell_type": "markdown",
      "source": [
        "**Task 5 (optional)**"
      ],
      "metadata": {
        "id": "woCq0K3eQubO"
      }
    },
    {
      "cell_type": "markdown",
      "source": [
        "Given a variable that stores a six-digit number (ticket number). Write a program that will determine if a given ticket is \"lucky\". A ticket is considered lucky if the sum of the first three digits matches the sum of the last three digits of the number."
      ],
      "metadata": {
        "id": "922R57bTd8_g"
      }
    },
    {
      "cell_type": "code",
      "source": [
        "number = [int(i) for i in input()]\n",
        "if len(number) == 6 and sum(number[:3]) == sum(number[3:]):\n",
        "      print('Cчастливый билет')\n",
        "elif len(number) == 6 and sum(number[:3]) != sum(number[3:]):\n",
        "      print('Несчастливый билет')\n",
        "else:\n",
        " print ('Введите шестизначный номер') "
      ],
      "metadata": {
        "colab": {
          "base_uri": "https://localhost:8080/"
        },
        "id": "bGkda7FjQywh",
        "outputId": "c9396f10-3feb-4fb6-9d9a-936278c53002"
      },
      "execution_count": null,
      "outputs": [
        {
          "output_type": "stream",
          "name": "stdout",
          "text": [
            "12342432\n",
            "Введите шестизначный номер\n"
          ]
        }
      ]
    },
    {
      "cell_type": "markdown",
      "source": [
        "**Task 6 (optional)**"
      ],
      "metadata": {
        "id": "2xJTXOJpi5Eu"
      }
    },
    {
      "cell_type": "markdown",
      "source": [
        "Write a program that can calculate the area of ​​three shapes (a circle, a triangle, and a rectangle). Request the type of the figure through user input, after which make a request for the characteristics of the figure:\n",
        "\n",
        "1)if the user has selected a circle, request its radius,                        \n",
        "2)if a triangle, the lengths of its three sides;         \n",
        "3)if a rectangle, the lengths of its two sides."
      ],
      "metadata": {
        "id": "zc4huw7EeMAU"
      }
    },
    {
      "cell_type": "code",
      "source": [
        "import math\n",
        "\n",
        "figure = str(input('Введите наименование фигуры (круг/прямоугольник/треугольник)'))\n",
        "if figure == 'круг':\n",
        "  r = int(input('Ввдите радиус круга'))\n",
        "  print(f\"площадь фигуры = {(r ** 2) * math.pi: .2f} \")\n",
        "elif figure == 'прямоугольник':\n",
        "  a = int(input('Ввдите длину прямоугольника'))\n",
        "  b = int(input('Ввдите ширину прямоугольника'))\n",
        "  print(f\"площадь фигуры = {a * b} \")\n",
        "elif figure == 'треугольник':\n",
        "  a = int(input('Ввдите сторону А треугольника'))\n",
        "  b = int(input('Ввдите сторону В треугольника'))\n",
        "  c = int(input('Ввдите сторону С треугольника'))\n",
        "  p = (a + b + c)/2\n",
        "  print(f\"площадь фигуры = {(p * (p - a) * (p - b) * (p - c)) ** 0.5} \")\n",
        "else:\n",
        "  print('Введите правильное наименование фигуры, как указано в примере')"
      ],
      "metadata": {
        "id": "D3aLRGqQjCIg",
        "outputId": "a476e00f-e371-46e2-e103-1da135876fc3",
        "colab": {
          "base_uri": "https://localhost:8080/"
        }
      },
      "execution_count": null,
      "outputs": [
        {
          "output_type": "stream",
          "name": "stdout",
          "text": [
            "Введите наименование фигуры (круг/прямоугольник/треугольник)треугольник\n",
            "Ввдите сторону А треугольника3\n",
            "Ввдите сторону В треугольника4\n",
            "Ввдите сторону С треугольника5\n",
            "площадь фигуры = 6.0 \n"
          ]
        }
      ]
    }
  ]
}