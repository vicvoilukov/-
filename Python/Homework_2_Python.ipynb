{
  "cells": [
    {
      "cell_type": "markdown",
      "metadata": {
        "id": "kXRqQpDr6kPA"
      },
      "source": [
        "# **Task 1**"
      ]
    },
    {
      "cell_type": "markdown",
      "source": [
        "Given a variable that stores a word from Latin letters. Write code that displays:\n",
        "\n",
        "- the middle letter if the number of letters in the word is odd;\n",
        "- two middle letters if the number of letters is even."
      ],
      "metadata": {
        "id": "_uSHF7lkCsrQ"
      }
    },
    {
      "cell_type": "code",
      "execution_count": null,
      "metadata": {
        "colab": {
          "base_uri": "https://localhost:8080/"
        },
        "id": "VRNOU1tq6nhW",
        "outputId": "0f128293-2e8f-4086-9a31-3dfc0c478997"
      },
      "outputs": [
        {
          "name": "stdout",
          "output_type": "stream",
          "text": [
            "testing\n",
            "t\n"
          ]
        }
      ],
      "source": [
        "word = input()\n",
        "if len(word) % 2 == 0: \n",
        "  print (word[int(len(word) / 2)-1:int(len(word) / 2)+1])\n",
        "elif len(word) % 2 != 0:\n",
        "  print (word[int(len(word) / 2)])"
      ]
    },
    {
      "cell_type": "markdown",
      "metadata": {
        "id": "qzL5Dfx935GP"
      },
      "source": [
        "# **Task 2**"
      ]
    },
    {
      "cell_type": "markdown",
      "source": [
        "Write a program that prompts the user for numbers in sequence (one at a time) and after the first zero prints the sum of all previously entered numbers."
      ],
      "metadata": {
        "id": "tCQddEs3DI_X"
      }
    },
    {
      "cell_type": "code",
      "execution_count": 1,
      "metadata": {
        "colab": {
          "base_uri": "https://localhost:8080/"
        },
        "id": "e3-epILb37MT",
        "outputId": "14b461a2-4eb0-4acc-aa61-a74722cd55f8"
      },
      "outputs": [
        {
          "output_type": "stream",
          "name": "stdout",
          "text": [
            "Enter the number:\n",
            "1\n",
            "Enter the number:\n",
            "2\n",
            "Enter the number:\n",
            "0\n",
            "Result\n",
            "3\n"
          ]
        }
      ],
      "source": [
        "n = int(input('Enter the number:\\n'))\n",
        "counter = 0\n",
        "while n != 0:\n",
        "  counter += n\n",
        "  n = int(input('Enter the number:\\n'))\n",
        "print (f\"Result\\n{counter}\")"
      ]
    },
    {
      "cell_type": "markdown",
      "metadata": {
        "id": "MXrULKPP-TvE"
      },
      "source": [
        "# **Task 3**"
      ]
    },
    {
      "cell_type": "markdown",
      "source": [
        "We are making MVP of dating service and we have a list of guys and girls.\n",
        "We hypothesize that we will get better recommendations if we simply sort the names alphabetically and introduce people with the same indexes after sorting! But we will not introduce anyone if someone can be left without a couple:"
      ],
      "metadata": {
        "id": "LcWJ-qNkDdX9"
      }
    },
    {
      "cell_type": "code",
      "execution_count": 2,
      "metadata": {
        "id": "0JP8zy4N-VLx"
      },
      "outputs": [],
      "source": [
        "boys = ['Peter', 'Alex', 'John', 'Arthur', 'Richard']\n",
        "girls = ['Kate', 'Liza', 'Kira', 'Emma', 'Trisha']"
      ]
    },
    {
      "cell_type": "code",
      "execution_count": 5,
      "metadata": {
        "id": "gF8CEhFGMvSu"
      },
      "outputs": [],
      "source": [
        "boys = ['Peter', 'Alex', 'John', 'Arthur', 'Richard', 'Michael']\n",
        "girls = ['Kate', 'Liza', 'Kira', 'Emma', 'Trisha']"
      ]
    },
    {
      "cell_type": "code",
      "execution_count": 6,
      "metadata": {
        "colab": {
          "base_uri": "https://localhost:8080/"
        },
        "id": "InvOsKbmMsae",
        "outputId": "5791939b-7343-46aa-b1c6-dd8b838b3278"
      },
      "outputs": [
        {
          "output_type": "stream",
          "name": "stdout",
          "text": [
            "Attention, someone may be left without a partner!\n"
          ]
        }
      ],
      "source": [
        "if len(boys) == len (girls):\n",
        "  print('Perfect couples:')\n",
        "  for i in zip(sorted(boys), sorted(girls)):\n",
        "   print(' and '.join(i))\n",
        "else:\n",
        "  print('Attention, someone may be left without a partner!')"
      ]
    },
    {
      "cell_type": "markdown",
      "metadata": {
        "id": "lrQOJMorN98V"
      },
      "source": [
        "# **Task 4**"
      ]
    },
    {
      "cell_type": "markdown",
      "source": [
        "We have a list containing information about the average daily temperature in Fahrenheit for an arbitrary period by country (data structure in the example). You need to write a code that will calculate the average temperature for the period in Celsius(!) for each country."
      ],
      "metadata": {
        "id": "CkmY0ULgD7yS"
      }
    },
    {
      "cell_type": "code",
      "execution_count": 7,
      "metadata": {
        "id": "qsNl0oFcN-ku"
      },
      "outputs": [],
      "source": [
        "countries_temperature = [\n",
        "    ['Thailand', [75.2, 77, 78.8, 73.4, 68, 75.2, 77]],\n",
        "    ['Germany', [57.2, 55.4, 59, 59, 53.6]],\n",
        "    ['Russia', [35.6, 37.4, 39.2, 41, 42.8, 39.2, 35.6]],\n",
        "    ['Poland', [50, 50, 53.6, 57.2, 55.4, 55.4]]\n",
        "]"
      ]
    },
    {
      "cell_type": "code",
      "source": [
        "print('Average temperature in countries:')\n",
        "for i in countries_temperature:\n",
        "  i[1] = (round((sum(i[1]) / len(i[1]) - 32) * 5 / 9, 1))\n",
        "  print(i[0], ' - ', i[1], ' C')"
      ],
      "metadata": {
        "colab": {
          "base_uri": "https://localhost:8080/"
        },
        "id": "XY722xjgpZW8",
        "outputId": "4f355fb2-9543-49c6-dc4b-bfbc6ce3c9c2"
      },
      "execution_count": 8,
      "outputs": [
        {
          "output_type": "stream",
          "name": "stdout",
          "text": [
            "Average temperature in countries:\n",
            "Thailand  -  23.9  C\n",
            "Germany  -  13.8  C\n",
            "Russia  -  3.7  C\n",
            "Poland  -  12.0  C\n"
          ]
        }
      ]
    },
    {
      "cell_type": "markdown",
      "source": [
        "# **Task 5 (optional)**"
      ],
      "metadata": {
        "id": "ZeNjW0TqqZ1B"
      }
    },
    {
      "cell_type": "markdown",
      "source": [
        "Given a stream of logs by the number of pages viewed for each user. You need to write an algorithm that calculates the average page views per user. That is, you need to calculate the ratio of the sum of all views to the number of unique users."
      ],
      "metadata": {
        "id": "tqZTDhrPEP_7"
      }
    },
    {
      "cell_type": "code",
      "source": [
        "stream = [\n",
        "    '2018-01-01,user1,3',\n",
        "    '2018-01-07,user1,4',\n",
        "    '2018-03-29,user1,1',\n",
        "    '2018-04-04,user1,13',\n",
        "    '2018-01-05,user2,7',\n",
        "    '2018-06-14,user3,4',\n",
        "    '2018-07-02,user3,10',\n",
        "    '2018-03-21,user4,19',\n",
        "    '2018-03-22,user4,4',\n",
        "    '2018-04-22,user4,8',\n",
        "    '2018-05-03,user4,9',\n",
        "    '2018-05-11,user4,11',\n",
        "]"
      ],
      "metadata": {
        "id": "BgT7VtdTqbKr"
      },
      "execution_count": 9,
      "outputs": []
    },
    {
      "cell_type": "code",
      "source": [
        "stream = [\n",
        "    '2018-01-01,user100,150',\n",
        "    '2018-01-07,user99,205',\n",
        "    '2018-03-29,user1001,81'\n",
        "]"
      ],
      "metadata": {
        "id": "WXL0_Wj7qdg1"
      },
      "execution_count": 11,
      "outputs": []
    },
    {
      "cell_type": "code",
      "source": [
        "unique_users = []\n",
        "views = []\n",
        "for row in stream:\n",
        "  views.append(int(row.split(',')[2]))\n",
        "  if row.split(',')[1] not in users:\n",
        "    users.append(row.split(',')[1])\n",
        "views = (sum(views)/len(users))\n",
        "print('Average views per unique user: ', round(views, 2))"
      ],
      "metadata": {
        "colab": {
          "base_uri": "https://localhost:8080/"
        },
        "id": "QGnBUBQpqhCV",
        "outputId": "27c79fa3-a232-437e-9fe6-a24c7d24865e"
      },
      "execution_count": 13,
      "outputs": [
        {
          "output_type": "stream",
          "name": "stdout",
          "text": [
            "Average views per unique user:  145.33\n"
          ]
        }
      ]
    },
    {
      "cell_type": "markdown",
      "source": [
        "# **Task 6 (optional)**"
      ],
      "metadata": {
        "id": "siQo577Af5jA"
      }
    },
    {
      "cell_type": "markdown",
      "source": [
        "Ask the user for a set of numbers separated by a space.        \n",
        "As a result, numbers that appear in the input more than once should be output in sorted order."
      ],
      "metadata": {
        "id": "pxJsA__eFbfw"
      }
    },
    {
      "cell_type": "code",
      "source": [
        "n = input('Enter the number: (separated by a space)\\n')\n",
        "n = n.split()\n",
        "result = []\n",
        "list_of_num = []\n",
        "for i in n:\n",
        " if n.count(i) > 1 and i not in list_of_num:\n",
        "   list_of_num.append(i)\n",
        "for r in list_of_num:\n",
        "  result.append(int(r))\n",
        "result = sorted(result)\n",
        "for i in result:\n",
        "  print(i, end=' ')"
      ],
      "metadata": {
        "colab": {
          "base_uri": "https://localhost:8080/"
        },
        "id": "sqCc7HL724Bb",
        "outputId": "b8b4ef22-1708-44c7-b9f4-3a830bfba150"
      },
      "execution_count": 15,
      "outputs": [
        {
          "output_type": "stream",
          "name": "stdout",
          "text": [
            "Enter the number: (separated by a space)\n",
            "10 15 15 103 200 200 200 1 1 1 1 1 2 2 2\n",
            "1 2 15 200 "
          ]
        }
      ]
    }
  ],
  "metadata": {
    "colab": {
      "name": "Homework 2 Python",
      "provenance": [],
      "collapsed_sections": []
    },
    "kernelspec": {
      "display_name": "Python 3",
      "name": "python3"
    },
    "language_info": {
      "name": "python"
    }
  },
  "nbformat": 4,
  "nbformat_minor": 0
}