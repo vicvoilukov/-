{
  "nbformat": 4,
  "nbformat_minor": 0,
  "metadata": {
    "colab": {
      "name": "Homework 8",
      "provenance": [],
      "collapsed_sections": []
    },
    "kernelspec": {
      "name": "python3",
      "display_name": "Python 3"
    },
    "language_info": {
      "name": "python"
    }
  },
  "cells": [
    {
      "cell_type": "markdown",
      "source": [
        "# Task 1"
      ],
      "metadata": {
        "id": "VhIrOnfXt53E"
      }
    },
    {
      "cell_type": "markdown",
      "source": [
        "Write a function that takes a string as input and checks if it is a valid transport number (1 letter, 3 digits, 2 letters, 2-3 digits). Please note that not all letters of the Cyrillic alphabet are used in transport numbers.\n",
        "\n",
        "If the number is valid, then the function should return the number and region separately."
      ],
      "metadata": {
        "id": "qXi_BDNLi8pc"
      }
    },
    {
      "cell_type": "code",
      "execution_count": 1,
      "metadata": {
        "id": "YCY52cTK_1SH"
      },
      "outputs": [],
      "source": [
        "import re"
      ]
    },
    {
      "cell_type": "code",
      "source": [
        "car_id = input('Enter car number\\n')\n",
        "valid_car_id = re.match(r'([abcehkmoptyxавекмнорстух]{1}\\d{3}[abcehkmoptyxавекмнорстух]{2})(\\d{2,3})', car_id, flags=re.IGNORECASE)\n",
        "if valid_car_id != None:\n",
        "  print('Car number ', valid_car_id.group(1).upper(), 'is valid. Region:', valid_car_id.group(2))\n",
        "else:\n",
        "  print('Car number not valid')"
      ],
      "metadata": {
        "id": "M7X5hWQiw8yL",
        "colab": {
          "base_uri": "https://localhost:8080/"
        },
        "outputId": "91cb46c1-2833-4935-b171-e5812e2fd040"
      },
      "execution_count": 2,
      "outputs": [
        {
          "output_type": "stream",
          "name": "stdout",
          "text": [
            "Enter car number\n",
            "m030te124\n",
            "Car number  M030TE is valid. Region: 124\n"
          ]
        }
      ]
    },
    {
      "cell_type": "markdown",
      "source": [
        "# Task 2"
      ],
      "metadata": {
        "id": "UoltVtsY6IRC"
      }
    },
    {
      "cell_type": "markdown",
      "source": [
        "Write a function that will remove all consecutive repetitions of words from a given string using regular expressions."
      ],
      "metadata": {
        "id": "zpPgDj7YjcTA"
      }
    },
    {
      "cell_type": "code",
      "source": [
        "some_string = 'Напишите функцию функцию, которая будет будет будет будет удалять все все все все последовательные повторы слов из из из из заданной строки строки при помощи регулярных выражений.'"
      ],
      "metadata": {
        "id": "hwNpMdbc6JOs"
      },
      "execution_count": null,
      "outputs": []
    },
    {
      "cell_type": "code",
      "source": [
        "re.sub(r'(\\w+\\s?)[^а-яА-Я]?\\1+', r'\\1', some_string)"
      ],
      "metadata": {
        "colab": {
          "base_uri": "https://localhost:8080/",
          "height": 35
        },
        "id": "FoK6KNz36NM8",
        "outputId": "dfefbf98-fa15-47ae-a9f7-e6b7725aeb7e"
      },
      "execution_count": null,
      "outputs": [
        {
          "output_type": "execute_result",
          "data": {
            "text/plain": [
              "'Напишите функцию, которая будет удалять все последовательные повторы слов из заданой строки при помощи регулярных выражений.'"
            ],
            "application/vnd.google.colaboratory.intrinsic+json": {
              "type": "string"
            }
          },
          "metadata": {},
          "execution_count": 5
        }
      ]
    },
    {
      "cell_type": "markdown",
      "source": [
        "# Task 3"
      ],
      "metadata": {
        "id": "vN7wlUbODTNs"
      }
    },
    {
      "cell_type": "markdown",
      "source": [
        "Write a function that will return an acronym given a string with words passed to it."
      ],
      "metadata": {
        "id": "Ws6F55fvjj1j"
      }
    },
    {
      "cell_type": "code",
      "source": [
        "some_words = 'Information technology'\n",
        "first_letters = re.sub(r'([\\w])\\w+\\s?', r'\\1', some_words.upper())\n",
        "first_letters"
      ],
      "metadata": {
        "colab": {
          "base_uri": "https://localhost:8080/",
          "height": 35
        },
        "id": "EfiFblWkDuh7",
        "outputId": "c00c2fbe-f543-4a8b-832e-39f4308991d2"
      },
      "execution_count": 3,
      "outputs": [
        {
          "output_type": "execute_result",
          "data": {
            "text/plain": [
              "'IT'"
            ],
            "application/vnd.google.colaboratory.intrinsic+json": {
              "type": "string"
            }
          },
          "metadata": {},
          "execution_count": 3
        }
      ]
    },
    {
      "cell_type": "code",
      "source": [
        "some_words = 'Near Field Communication'\n",
        "first_letters = re.sub(r'([\\w])\\w+\\s?', r'\\1', some_words.upper())\n",
        "first_letters"
      ],
      "metadata": {
        "colab": {
          "base_uri": "https://localhost:8080/",
          "height": 35
        },
        "id": "jwWK6gVPJNT0",
        "outputId": "854cb517-6222-4e42-a78c-7243895ded03"
      },
      "execution_count": 4,
      "outputs": [
        {
          "output_type": "execute_result",
          "data": {
            "text/plain": [
              "'NFC'"
            ],
            "application/vnd.google.colaboratory.intrinsic+json": {
              "type": "string"
            }
          },
          "metadata": {},
          "execution_count": 4
        }
      ]
    },
    {
      "cell_type": "markdown",
      "source": [
        "# Task 4"
      ],
      "metadata": {
        "id": "ZU_BlFCqJZ9M"
      }
    },
    {
      "cell_type": "markdown",
      "source": [
        "Write a function that will take a list of email addresses as input and display their distribution by domain zones."
      ],
      "metadata": {
        "id": "is4lQVD8jxj7"
      }
    },
    {
      "cell_type": "code",
      "source": [
        "emails = ['test@gmail.com', 'xyz@test.in', 'test@ya.ru', 'xyz@mail.ru', 'xyz@ya.ru', 'xyz@gmail.com']"
      ],
      "metadata": {
        "id": "xaq1bIJwJY1b"
      },
      "execution_count": 12,
      "outputs": []
    },
    {
      "cell_type": "code",
      "source": [
        "def mail_domain(emails):\n",
        "  list_domain = re.findall(r'\\w+\\.\\w+', ' '.join(emails))\n",
        "  for mail in set(list_domain):\n",
        "    print(f'{mail}: {list_domain.count(mail)}')"
      ],
      "metadata": {
        "id": "JUzyh4AdlDwf"
      },
      "execution_count": 10,
      "outputs": []
    },
    {
      "cell_type": "code",
      "source": [
        "mail_domain(emails)"
      ],
      "metadata": {
        "colab": {
          "base_uri": "https://localhost:8080/"
        },
        "id": "QDvwlkVIleJ1",
        "outputId": "e362d100-fd07-4f23-a13b-7c21c28dc026"
      },
      "execution_count": 13,
      "outputs": [
        {
          "output_type": "stream",
          "name": "stdout",
          "text": [
            "mail.ru: 1\n",
            "test.in: 1\n",
            "ya.ru: 2\n",
            "gmail.com: 2\n"
          ]
        }
      ]
    },
    {
      "cell_type": "markdown",
      "source": [
        "# Task 5 (optional)"
      ],
      "metadata": {
        "id": "BIGvRnP8JJKK"
      }
    },
    {
      "cell_type": "markdown",
      "source": [
        "Write a function that will count how many words start with vowels and how many start with consonants in a text (the text can be written using both Cyrillic and Latin letters)."
      ],
      "metadata": {
        "id": "V9XueL1uj-3T"
      }
    },
    {
      "cell_type": "code",
      "source": [
        "some_text = 'Эталонной реализацией Python является интерпретатор CPython, поддерживающий большинство активно используемых платформ. Он распространяется под свободной лицензией Python Software Foundation License, позволяющей использовать его без ограничений в любых приложениях, включая проприетарные.'"
      ],
      "metadata": {
        "id": "xsCHTpvyJPB0"
      },
      "execution_count": 5,
      "outputs": []
    },
    {
      "cell_type": "code",
      "source": [
        "vowel_words = re.findall(r'\\b[аеёиоуыэюяaeiouy]+', some_text, flags=re.IGNORECASE)\n",
        "all_words = re.findall(r'\\w+', some_text, flags=re.IGNORECASE)\n",
        "print('Words starts on vowels:', len(vowel_words))\n",
        "print('Words starts on consonants:', len(all_words) - len(vowel_words))"
      ],
      "metadata": {
        "colab": {
          "base_uri": "https://localhost:8080/"
        },
        "id": "MJ_X_9QVJTTW",
        "outputId": "4860f002-c88e-47b5-f135-7b1a0c84cceb"
      },
      "execution_count": 6,
      "outputs": [
        {
          "output_type": "stream",
          "name": "stdout",
          "text": [
            "Words starts on vowels: 9\n",
            "Words starts on consonants: 21\n"
          ]
        }
      ]
    },
    {
      "cell_type": "markdown",
      "source": [
        "# Task 6 (optional)"
      ],
      "metadata": {
        "id": "WoNyCDulMMVH"
      }
    },
    {
      "cell_type": "markdown",
      "source": [
        "Write a function that will check the cell phone number for validity (only for the Russian format), if it is valid, then translate it into the format:\n",
        "\n",
        "+7-xxx-xxx-xx-xx\n",
        "\n",
        "Try to provide as many adequate formats for the initial number entry as possible. Examples of the program: +7-xxx-xxx-xxx-xx\n",
        "Try to provide as adequate formats as possible for the initial input of the number. "
      ],
      "metadata": {
        "id": "zBp5phN5kVkS"
      }
    },
    {
      "cell_type": "code",
      "source": [
        "phone = '8(955)555-55-55'\n"
      ],
      "metadata": {
        "id": "JLbqapsaM3U8"
      },
      "execution_count": null,
      "outputs": []
    },
    {
      "cell_type": "code",
      "source": [
        "phone = input('Enter telephone number:\\n')\n",
        "valid_phone = re.search(r'[\\s8+7\\-(]{1,4}(\\d{3})[\\s\\-)]{0,2}(\\d{3})[\\s\\-():]{0,2}(\\d{2})[\\s\\-():]{0,3}(\\d{2})', phone)\n",
        "if valid_phone != None:\n",
        "  print(f\"+7-{valid_phone.group(1)}-{valid_phone.group(2)}-{valid_phone.group(3)}-{valid_phone.group(4)}\")\n",
        "else:\n",
        "  print('Telephone number is invalid')"
      ],
      "metadata": {
        "colab": {
          "base_uri": "https://localhost:8080/"
        },
        "id": "2qABLrxUMNaN",
        "outputId": "4f496759-684a-4f92-db80-c4d24d4f3561"
      },
      "execution_count": 7,
      "outputs": [
        {
          "output_type": "stream",
          "name": "stdout",
          "text": [
            "Enter telephone number:\n",
            "423-555-5555\n",
            "Telephone number is invalid\n"
          ]
        }
      ]
    },
    {
      "cell_type": "code",
      "source": [
        "phone = input('Enter telephone number:\\n')\n",
        "valid_phone = re.sub(r'[\\s8+7\\-(]{1,4}(\\d{3})[\\s\\-)]{0,2}(\\d{3})[\\s\\-():]{0,2}(\\d{2})[\\s\\-():]{0,3}(\\d{2})', r'+7-\\1-\\2-\\3-\\4', phone)\n",
        "if valid_phone != None:\n",
        "  print(valid_phone)\n",
        "else:\n",
        "  print('Telephone number is invalid')"
      ],
      "metadata": {
        "colab": {
          "base_uri": "https://localhost:8080/"
        },
        "id": "XHtKVlA8SPUi",
        "outputId": "6c2a5d57-8f10-4b51-eff5-b9bf6e24a3ea"
      },
      "execution_count": 9,
      "outputs": [
        {
          "output_type": "stream",
          "name": "stdout",
          "text": [
            "Enter telephone number:\n",
            "89154273257\n",
            "+7-915-427-32-57\n"
          ]
        }
      ]
    }
  ]
}