{
  "nbformat": 4,
  "nbformat_minor": 0,
  "metadata": {
    "colab": {
      "name": "Homework 4.ipynb",
      "provenance": [],
      "collapsed_sections": []
    },
    "kernelspec": {
      "name": "python3",
      "display_name": "Python 3"
    },
    "language_info": {
      "name": "python"
    }
  },
  "cells": [
    {
      "cell_type": "markdown",
      "source": [
        "You need to help secretary to automate him work. To do this, you need to write a program that will execute user commands based on the stored data."
      ],
      "metadata": {
        "id": "RxEjTgM_RKBw"
      }
    },
    {
      "cell_type": "markdown",
      "source": [
        "The initial data has the following structure:"
      ],
      "metadata": {
        "id": "PoSg3QxjRbYE"
      }
    },
    {
      "cell_type": "markdown",
      "source": [
        "List of all documents:"
      ],
      "metadata": {
        "id": "Vgh0VTYsRg5S"
      }
    },
    {
      "cell_type": "code",
      "execution_count": 3,
      "metadata": {
        "id": "j1omCZUFogfq"
      },
      "outputs": [],
      "source": [
        "documents = [\n",
        " {'type': 'passport', 'number': '2207 876234', 'name': 'Vasiliy Gupkin'},\n",
        " {'type': 'invoice', 'number': '11-2', 'name': 'Gena Pocemonov'},\n",
        " {'type': 'insurance', 'number': '10006', 'name': 'Aristarch Pavlov'}\n",
        "]"
      ]
    },
    {
      "cell_type": "markdown",
      "source": [
        "List of directories where documents are stored (if the document is in documents, then it must also be in directories)"
      ],
      "metadata": {
        "id": "0JVkOlT7Rrl1"
      }
    },
    {
      "cell_type": "code",
      "source": [
        "directories = {\n",
        " '1': ['2207 876234', '11-2'],\n",
        " '2': ['10006'],\n",
        " '3': []\n",
        "}"
      ],
      "metadata": {
        "id": "3nZuzk2ooqWT"
      },
      "execution_count": 2,
      "outputs": []
    },
    {
      "cell_type": "markdown",
      "source": [
        "General requirements for the program:\n",
        "\n",
        "- the code must be correctly decomposed (each function is responsible for its specific task, duplicate functionality is reused, and its code is not repeated);\n",
        "- there are no global variables in the code (with the exception of documents and directories);\n",
        "- user input is processed in a while loop until the user explicitly terminates the program (by entering the \"q\" command)."
      ],
      "metadata": {
        "id": "L3uMm7dTR5tr"
      }
    },
    {
      "cell_type": "markdown",
      "source": [
        "# **Task 1**"
      ],
      "metadata": {
        "id": "fFd1Ghk2okBi"
      }
    },
    {
      "cell_type": "code",
      "source": [
        "def keys_dir_str():\n",
        "  \"\"\"\n",
        "  This function print current list of directories\n",
        "  \"\"\"\n",
        "  print('Current list of directories: ', end='')\n",
        "  print(*list(directories.keys()), sep= ', ', end='')\n",
        "def doc_not_found():\n",
        "  \"\"\"\n",
        "  This function print 'Document not found in database'\n",
        "  \"\"\"\n",
        "  print('Document not found in database')\n",
        "keys_dir_str()"
      ],
      "metadata": {
        "id": "poCMLPzUedhU",
        "colab": {
          "base_uri": "https://localhost:8080/"
        },
        "outputId": "e2b55ffd-87ad-4311-e6b5-bfc707228780"
      },
      "execution_count": 6,
      "outputs": [
        {
          "output_type": "stream",
          "name": "stdout",
          "text": [
            "Current list of directories: 1, 2, 3"
          ]
        }
      ]
    },
    {
      "cell_type": "markdown",
      "source": [
        "**Point 1**"
      ],
      "metadata": {
        "id": "hEXwcXbYBWVs"
      }
    },
    {
      "cell_type": "markdown",
      "source": [
        "The user can use the **\"p\"** command to find out the owner of the document by its number"
      ],
      "metadata": {
        "id": "_kx34L6eSEfe"
      }
    },
    {
      "cell_type": "code",
      "source": [
        "def doc_owner(doc_num):\n",
        "  \"\"\"\n",
        "  This function returns the name of the owner of the document\n",
        "  \"\"\"\n",
        "  for row in documents:\n",
        "      if row['number'] == doc_num:\n",
        "        return row['name']\n",
        "  else:\n",
        "      doc_not_found()"
      ],
      "metadata": {
        "id": "3EqMZQagWbl5"
      },
      "execution_count": 7,
      "outputs": []
    },
    {
      "cell_type": "markdown",
      "source": [
        "**Point 2**"
      ],
      "metadata": {
        "id": "OCyYjUNiHKx7"
      }
    },
    {
      "cell_type": "markdown",
      "source": [
        "Using the **\"s\"** command, the user can find out on which directorie it is stored by the document number"
      ],
      "metadata": {
        "id": "Pbs8l8MDTPNf"
      }
    },
    {
      "cell_type": "code",
      "source": [
        "def shelf_number(doc_num): \n",
        "  \"\"\"\n",
        "  This function returns number of directorie on which the document is stored\n",
        "  \"\"\"\n",
        "  for key in directories.items():\n",
        "    if doc_num in key[1]:\n",
        "      return key[0]\n",
        "  else:\n",
        "    doc_not_found()"
      ],
      "metadata": {
        "id": "rxCfNvzBHN_G"
      },
      "execution_count": 8,
      "outputs": []
    },
    {
      "cell_type": "markdown",
      "source": [
        "**Point 3**"
      ],
      "metadata": {
        "id": "bjtLvluUKt0Z"
      }
    },
    {
      "cell_type": "markdown",
      "source": [
        "The user on the command **\"l\"** can see the full information on all documents"
      ],
      "metadata": {
        "id": "yQrZT-LQTaH_"
      }
    },
    {
      "cell_type": "code",
      "source": [
        "def doc_list():\n",
        "  \"\"\"\n",
        "  This function returns the full information on all documents\n",
        "  \"\"\"\n",
        "  print('Current list of documents:')\n",
        "  for row in documents:\n",
        "    print(f\" №: {row['number']} type: {row['type']}, owner: {row['name']}, directorie: {shelf_number(row['number'])}\")   "
      ],
      "metadata": {
        "id": "uZNXfSauKwqJ"
      },
      "execution_count": 9,
      "outputs": []
    },
    {
      "cell_type": "markdown",
      "source": [
        "**Point 4**"
      ],
      "metadata": {
        "id": "9EQb8YsPX1xN"
      }
    },
    {
      "cell_type": "markdown",
      "source": [
        "The user can add a new shelf with the **\"ads\"** command"
      ],
      "metadata": {
        "id": "qg5sex2BTuaL"
      }
    },
    {
      "cell_type": "code",
      "source": [
        "def add_shelf(shelf):\n",
        "  \"\"\"\n",
        "  This function add new directory if it doesn't exist\n",
        "  \"\"\"\n",
        "  if shelf not in directories.keys():\n",
        "    directories[shelf] = []\n",
        "    print('Directory was added.', end=' ') \n",
        "    keys_dir_str()\n",
        "  else:\n",
        "    print('This directory already exists.', end=' ')\n",
        "    keys_dir_str()"
      ],
      "metadata": {
        "id": "lEgCtCF_5EYL"
      },
      "execution_count": 11,
      "outputs": []
    },
    {
      "cell_type": "markdown",
      "source": [
        "**Point 5**"
      ],
      "metadata": {
        "id": "Y4PGc50xbdaw"
      }
    },
    {
      "cell_type": "markdown",
      "source": [
        "The user can use the **\"ds\"** command to remove an existing directorie from the data (only if it is empty)\n"
      ],
      "metadata": {
        "id": "dnxucdXmUVun"
      }
    },
    {
      "cell_type": "code",
      "source": [
        "def del_shelf(shelf):\n",
        "  \"\"\"\n",
        "  This function removes directory from directories library if it exists and is empty  \n",
        "  \"\"\"\n",
        "  if shelf in directories.keys():\n",
        "    for values in directories.copy().keys():\n",
        "      if directories[shelf] == []:\n",
        "        del(directories[shelf])\n",
        "        print('Directory deleted.', end=' ')\n",
        "        break\n",
        "    else:\n",
        "      print('There are documents in directory, remove them before removing directory.', end=' ')\n",
        "  else:\n",
        "    print('This directory does not exist.', end=' ')"
      ],
      "metadata": {
        "id": "G5cW6E3d7glw"
      },
      "execution_count": 12,
      "outputs": []
    },
    {
      "cell_type": "markdown",
      "source": [
        "# **Task 2 (optional)**"
      ],
      "metadata": {
        "id": "JnHsAVvkmDyR"
      }
    },
    {
      "cell_type": "markdown",
      "source": [
        "You need to complete the program from task 1 with more advanced commands."
      ],
      "metadata": {
        "id": "wMFtgi0_VZvk"
      }
    },
    {
      "cell_type": "markdown",
      "source": [
        "**Point 1**"
      ],
      "metadata": {
        "id": "9p1djBFUmTLp"
      }
    },
    {
      "cell_type": "markdown",
      "source": [
        "The user with the **\"ad\"** command can add a new document to the database"
      ],
      "metadata": {
        "id": "47SyKUuiVdqO"
      }
    },
    {
      "cell_type": "code",
      "source": [
        "def add_document():\n",
        "  \"\"\"\n",
        "  This function adds a document to the documents library and adds it to the directory\n",
        "  \"\"\"\n",
        "  doc_num = input('Enter document number:\\n')\n",
        "  doc_type = input('Enter type of the document:\\n')\n",
        "  doc_owner = input('Enter document owmer:\\n')\n",
        "  shelf = input('Enter storage directory:\\n')\n",
        "  if shelf not in directories.keys():\n",
        "      print('At first add directory with command \"as\".')\n",
        "      doc_list()\n",
        "  else:\n",
        "      documents.append({'type' : doc_type, 'number' : doc_num, 'name' : doc_owner})\n",
        "      directories[shelf].append(doc_num)\n",
        "      print('Document added.', end=' ')\n",
        "      doc_list()"
      ],
      "metadata": {
        "id": "lJOjYKd_8zUM"
      },
      "execution_count": 13,
      "outputs": []
    },
    {
      "cell_type": "markdown",
      "source": [
        "**Point 2**"
      ],
      "metadata": {
        "id": "ZhudM04nHlWr"
      }
    },
    {
      "cell_type": "markdown",
      "source": [
        "The user can delete the document from the data with **\"d\"** command\n"
      ],
      "metadata": {
        "id": "pCitLnXWWJl6"
      }
    },
    {
      "cell_type": "code",
      "source": [
        "def del_document():\n",
        "  \"\"\"\n",
        "  This function allows you to remove a document from the documents list.\n",
        "  and from the directories library\n",
        "  \"\"\"\n",
        "  doc_num = input('Enter document number:\\n')\n",
        "  x = doc_owner(doc_num)\n",
        "  for row in documents:\n",
        "    for el in row.values():\n",
        "      if el == x:\n",
        "        del(documents[documents.index(row)])\n",
        "        directories[shelf_number(doc_num)].remove(doc_num)\n",
        "        print('Document deleted.')"
      ],
      "metadata": {
        "id": "EOpzG-P2BQlu"
      },
      "execution_count": 14,
      "outputs": []
    },
    {
      "cell_type": "markdown",
      "source": [
        "**Point 3**"
      ],
      "metadata": {
        "id": "UlyLUMWpEu0J"
      }
    },
    {
      "cell_type": "markdown",
      "source": [
        "The user can use the **\"m\"** command to move a document from directory to directory.\n"
      ],
      "metadata": {
        "id": "un_oiAYKXIy8"
      }
    },
    {
      "cell_type": "code",
      "source": [
        "def replace_document():\n",
        "  \"\"\"\n",
        "  This function allows you to move a document from directory to directory.\n",
        "  \"\"\"\n",
        "  doc_num = input('Enter document number:\\n')\n",
        "  x = shelf_number(doc_num)\n",
        "  if x != None:\n",
        "    y = input('Enter directory number:\\n')\n",
        "    if y not in directories.keys():\n",
        "      print('Such directory does not exist.', end=' ')\n",
        "      keys_dir_str()\n",
        "    else:\n",
        "      directories[x].remove(doc_num)\n",
        "      directories[y].append(doc_num)\n",
        "      print('Document moved.')\n",
        "      doc_list()"
      ],
      "metadata": {
        "id": "i8C6scodE1Xp"
      },
      "execution_count": 15,
      "outputs": []
    },
    {
      "cell_type": "markdown",
      "source": [
        "**Function with user input loop**"
      ],
      "metadata": {
        "id": "5DrC0OulXEOg"
      }
    },
    {
      "cell_type": "code",
      "source": [
        "def main():\n",
        "  command = input('Enter command:\\n')\n",
        "  while command != 'q':\n",
        "    if command == 'p':\n",
        "      doc_num = input('Enter document number:\\n')\n",
        "      x = doc_owner(doc_num)\n",
        "      if x != None:\n",
        "        print('Document owwner:', x)\n",
        "      command = input('Enter command:\\n')\n",
        "    elif command == 's':\n",
        "      doc_num = input('Enter document number:\\n')\n",
        "      x = shelf_number(doc_num)\n",
        "      if x != None:\n",
        "        print('Document is stored in a directory:', x)\n",
        "      command = input('Enter command:\\n')\n",
        "    elif command == 'l':\n",
        "      doc_list()\n",
        "      command = input('Enter command:\\n')\n",
        "    elif command == 'ads':\n",
        "      shelf = input('Enter directory number:\\n')\n",
        "      add_shelf(shelf)\n",
        "      command = input('Enter command:\\n')\n",
        "    elif command == 'ds':\n",
        "      shelf = input('Enter directory number:\\n')\n",
        "      del_shelf(shelf) \n",
        "      keys_dir_str()\n",
        "      command = input('Enter command:\\n')\n",
        "    elif command == 'ad':\n",
        "      add_document()\n",
        "      command = input('Enter command:\\n')\n",
        "    elif command == 'd':\n",
        "      del_document()\n",
        "      doc_list()\n",
        "      command = input('Enter command:\\n')\n",
        "    elif command == 'm':\n",
        "      replace_document()\n",
        "      command = input('Enter command:\\n')\n",
        "    else:\n",
        "      command = input('Enter command:\\n')"
      ],
      "metadata": {
        "id": "pEVIdF3jEh-f"
      },
      "execution_count": 21,
      "outputs": []
    },
    {
      "cell_type": "code",
      "source": [
        "main()"
      ],
      "metadata": {
        "colab": {
          "base_uri": "https://localhost:8080/"
        },
        "id": "54NiYjyjXAKi",
        "outputId": "48368848-6439-43e3-da51-492c255188ee"
      },
      "execution_count": 22,
      "outputs": [
        {
          "name": "stdout",
          "output_type": "stream",
          "text": [
            "Enter command:\n",
            "p\n",
            "Enter document number:\n",
            "10006\n",
            "Document owwner: Aristarch Pavlov\n",
            "Enter command:\n",
            "p\n",
            "Enter document number:\n",
            "12345\n",
            "Document not found in database\n",
            "Enter command:\n",
            "s\n",
            "Enter document number:\n",
            "10006\n",
            "Document is stored in a directory: 2\n",
            "Enter command:\n",
            "s\n",
            "Enter document number:\n",
            "12345\n",
            "Document not found in database\n",
            "Enter command:\n",
            "l\n",
            "Current list of documents:\n",
            " №: 2207 876234 type: passport, owner: Vasiliy Gupkin, directorie: 1\n",
            " №: 11-2 type: invoice, owner: Gena Pocemonov, directorie: 1\n",
            " №: 10006 type: insurance, owner: Aristarch Pavlov, directorie: 2\n",
            "Enter command:\n",
            "ads\n",
            "Enter directory number:\n",
            "10\n",
            "Directory was added. Current list of directories: 1, 2, 3, 10Enter command:\n",
            "ads\n",
            "Enter directory number:\n",
            "1\n",
            "This directory already exists. Current list of directories: 1, 2, 3, 10Enter command:\n",
            "ds\n",
            "Enter directory number:\n",
            "10\n",
            "Directory deleted. Current list of directories: 1, 2, 3Enter command:\n",
            "ds\n",
            "Enter directory number:\n",
            "1\n",
            "There are documents in directory, remove them before removing directory. Current list of directories: 1, 2, 3Enter command:\n",
            "ds\n",
            "Enter directory number:\n",
            "4\n",
            "This directory does not exist. Current list of directories: 1, 2, 3Enter command:\n",
            "ad\n",
            "Enter document number:\n",
            "42\n",
            "Enter type of the document:\n",
            "multipassport\n",
            "Enter document owmer:\n",
            "R2D2\n",
            "Enter storage directory:\n",
            "3\n",
            "Document added. Current list of documents:\n",
            " №: 2207 876234 type: passport, owner: Vasiliy Gupkin, directorie: 1\n",
            " №: 11-2 type: invoice, owner: Gena Pocemonov, directorie: 1\n",
            " №: 10006 type: insurance, owner: Aristarch Pavlov, directorie: 2\n",
            " №: 42 type: multipassport, owner: R2D2, directorie: 3\n",
            "Enter command:\n",
            "ad\n",
            "Enter document number:\n",
            "123\n",
            "Enter type of the document:\n",
            "afdsaff\n",
            "Enter document owmer:\n",
            "asfaf\n",
            "Enter storage directory:\n",
            "4\n",
            "At first add directory with command \"as\".\n",
            "Current list of documents:\n",
            " №: 2207 876234 type: passport, owner: Vasiliy Gupkin, directorie: 1\n",
            " №: 11-2 type: invoice, owner: Gena Pocemonov, directorie: 1\n",
            " №: 10006 type: insurance, owner: Aristarch Pavlov, directorie: 2\n",
            " №: 42 type: multipassport, owner: R2D2, directorie: 3\n",
            "Enter command:\n",
            "d\n",
            "Enter document number:\n",
            "42\n",
            "Document deleted.\n",
            "Current list of documents:\n",
            " №: 2207 876234 type: passport, owner: Vasiliy Gupkin, directorie: 1\n",
            " №: 11-2 type: invoice, owner: Gena Pocemonov, directorie: 1\n",
            " №: 10006 type: insurance, owner: Aristarch Pavlov, directorie: 2\n",
            "Enter command:\n",
            "d\n",
            "Enter document number:\n",
            "122345\n",
            "Document not found in database\n",
            "Current list of documents:\n",
            " №: 2207 876234 type: passport, owner: Vasiliy Gupkin, directorie: 1\n",
            " №: 11-2 type: invoice, owner: Gena Pocemonov, directorie: 1\n",
            " №: 10006 type: insurance, owner: Aristarch Pavlov, directorie: 2\n",
            "Enter command:\n",
            "m\n",
            "Enter document number:\n",
            "11-2\n",
            "Enter directory number:\n",
            "3\n",
            "Document moved.\n",
            "Current list of documents:\n",
            " №: 2207 876234 type: passport, owner: Vasiliy Gupkin, directorie: 1\n",
            " №: 11-2 type: invoice, owner: Gena Pocemonov, directorie: 3\n",
            " №: 10006 type: insurance, owner: Aristarch Pavlov, directorie: 2\n",
            "Enter command:\n",
            "m\n",
            "Enter document number:\n",
            "11-2\n",
            "Enter directory number:\n",
            "1\n",
            "Document moved.\n",
            "Current list of documents:\n",
            " №: 2207 876234 type: passport, owner: Vasiliy Gupkin, directorie: 1\n",
            " №: 11-2 type: invoice, owner: Gena Pocemonov, directorie: 1\n",
            " №: 10006 type: insurance, owner: Aristarch Pavlov, directorie: 2\n",
            "Enter command:\n",
            "m\n",
            "Enter document number:\n",
            "11-2\n",
            "Enter directory number:\n",
            "10\n",
            "Such directory does not exist. Current list of directories: 1, 2, 3Enter command:\n",
            "m\n",
            "Enter document number:\n",
            "42\n",
            "Document not found in database\n",
            "Enter command:\n",
            "q\n"
          ]
        }
      ]
    }
  ]
}