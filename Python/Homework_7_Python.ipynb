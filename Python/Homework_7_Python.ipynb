{
  "nbformat": 4,
  "nbformat_minor": 0,
  "metadata": {
    "colab": {
      "name": "Homework 7",
      "provenance": [],
      "collapsed_sections": []
    },
    "kernelspec": {
      "name": "python3",
      "display_name": "Python 3"
    },
    "language_info": {
      "name": "python"
    }
  },
  "cells": [
    {
      "cell_type": "markdown",
      "source": [
        "# Task 1"
      ],
      "metadata": {
        "id": "zbp8zdLKKnPd"
      }
    },
    {
      "cell_type": "markdown",
      "source": [
        "Write a function that returns the name of the currency (field 'Name') with the maximum value of the exchange rate using the service www.cbr-xml-daily.ru...ly_json.js"
      ],
      "metadata": {
        "id": "oQIHmvZPgJ3z"
      }
    },
    {
      "cell_type": "code",
      "execution_count": 2,
      "metadata": {
        "id": "aGDJENLuKjn8"
      },
      "outputs": [],
      "source": [
        "import requests"
      ]
    },
    {
      "cell_type": "code",
      "source": [
        "import sys\n",
        "sys.path"
      ],
      "metadata": {
        "colab": {
          "base_uri": "https://localhost:8080/"
        },
        "id": "p_ghnohGMJXI",
        "outputId": "3f80b70f-0e4e-4a19-ff73-d3594b041b02"
      },
      "execution_count": null,
      "outputs": [
        {
          "output_type": "execute_result",
          "data": {
            "text/plain": [
              "['',\n",
              " '/content',\n",
              " '/env/python',\n",
              " '/usr/lib/python37.zip',\n",
              " '/usr/lib/python3.7',\n",
              " '/usr/lib/python3.7/lib-dynload',\n",
              " '/usr/local/lib/python3.7/dist-packages',\n",
              " '/usr/lib/python3/dist-packages',\n",
              " '/usr/local/lib/python3.7/dist-packages/IPython/extensions',\n",
              " '/root/.ipython']"
            ]
          },
          "metadata": {},
          "execution_count": 2
        }
      ]
    },
    {
      "cell_type": "code",
      "source": [
        "from exchange import Rate"
      ],
      "metadata": {
        "id": "S-jL1Tb-L8UW"
      },
      "execution_count": null,
      "outputs": []
    },
    {
      "cell_type": "code",
      "source": [
        "class CurrencyCodes(Rate):\n",
        "    def __init__(self):\n",
        "        super().__init__(format='full')\n",
        "\n",
        "    def currency_max_name(self):\n",
        "        \"\"\"Получение наименование валюты с максимальным значением курса\"\"\"\n",
        "        Values = {}\n",
        "        for currency in cc.exchange_rates():\n",
        "          currency_is_value = self.make_format(currency)['Value']\n",
        "          name_is_key = self.make_format(currency)['Name']\n",
        "          Values.update({name_is_key : currency_is_value})\n",
        "        for key, value in Values.items():\n",
        "          if max(Values.values()) == Values[key]:\n",
        "            print(name_is_key)"
      ],
      "metadata": {
        "id": "IfchUHJENDzN"
      },
      "execution_count": null,
      "outputs": []
    },
    {
      "cell_type": "code",
      "source": [
        "cc.exchange_rates()"
      ],
      "metadata": {
        "id": "xjvbiMxebJgE"
      },
      "execution_count": null,
      "outputs": []
    },
    {
      "cell_type": "code",
      "source": [
        "cc = CurrencyCodes()"
      ],
      "metadata": {
        "id": "y7RTooVYP7M-"
      },
      "execution_count": null,
      "outputs": []
    },
    {
      "cell_type": "code",
      "source": [
        "cc.currency_max_name()"
      ],
      "metadata": {
        "colab": {
          "base_uri": "https://localhost:8080/"
        },
        "id": "UBc18FcPUr7B",
        "outputId": "87dc2db3-665f-4a84-8a06-6fb98e502281"
      },
      "execution_count": null,
      "outputs": [
        {
          "output_type": "stream",
          "name": "stdout",
          "text": [
            "Японских иен\n"
          ]
        }
      ]
    },
    {
      "cell_type": "markdown",
      "source": [
        "# Task 2"
      ],
      "metadata": {
        "id": "MiF6Ae9wumWg"
      }
    },
    {
      "cell_type": "markdown",
      "source": [
        "Add the diff parameter to class Rate (with True or False values), which, if True in the exchange rate methods (eur, usd, etc.), will return not the exchange rate, but the change compared to the previous value. Assume that self.diff will only evaluate to True when returning a course value. When displaying all information about the currency, it is not used."
      ],
      "metadata": {
        "id": "HzWpF0DMgaet"
      }
    },
    {
      "cell_type": "code",
      "source": [
        "# coding: utf-8\n",
        "import requests\n",
        "\n",
        "def my_sum(x, y):\n",
        "    return x+y\n",
        "\n",
        "class Rate:\n",
        "    def __init__(self, format='value', diff=False):\n",
        "        self.format = format\n",
        "        self.diff = diff\n",
        "    \n",
        "    def exchange_rates(self):\n",
        "        \"\"\"\n",
        "        Returns a service response with information about currencies in the form:\n",
        "        \n",
        "        {\n",
        "            'AMD': {\n",
        "                'CharCode': 'AMD',\n",
        "                'ID': 'R01060',\n",
        "                'Name': 'Армянских драмов',\n",
        "                'Nominal': 100,\n",
        "                'NumCode': '051',\n",
        "                'Previous': 14.103,\n",
        "                'Value': 14.0879\n",
        "                },\n",
        "            ...\n",
        "        }\n",
        "        \"\"\"\n",
        "        r = requests.get('https://www.cbr-xml-daily.ru/daily_json.js')\n",
        "        return r.json()['Valute']\n",
        "    \n",
        "    def make_format(self, currency):\n",
        "        \"\"\"\n",
        "        Returns information about currency in two variants:\n",
        "        - full information about the currency if self.diff = False и self.format = 'full':\n",
        "        Rate('full', False).make_format('EUR')\n",
        "        {\n",
        "            'CharCode': 'EUR',\n",
        "            'ID': 'R01239',\n",
        "            'Name': 'Евро',\n",
        "            'Nominal': 1,\n",
        "            'NumCode': '978',\n",
        "            'Previous': 79.6765,\n",
        "            'Value': 79.4966\n",
        "        }\n",
        "        \n",
        "        Rate('value').make_format('EUR')\n",
        "        79.4966\n",
        "\n",
        "        If self.diff = True, returns the change from the previous day.\n",
        "        Rate('value', True).make_format('EUR')\n",
        "        Today EUR exchange rate is higher than yesterday by 0.9232 rubles\n",
        "        \"\"\"\n",
        "        response = self.exchange_rates()\n",
        "        \n",
        "        if currency in response:\n",
        "            if self.format == 'full':\n",
        "                return response[currency]\n",
        "            \n",
        "            if self.format == 'value':\n",
        "              if self.diff == False:\n",
        "                return response[currency]['Value']\n",
        "              if self.diff == True:\n",
        "                r = requests.get('https://www.cbr-xml-daily.ru/daily_json.js')\n",
        "                another_request = requests.get(f\"http:{r.json()['PreviousURL']}\")\n",
        "                previuos_valute = another_request.json()['Valute']\n",
        "                previuos_value = previuos_valute[currency]['Value']\n",
        "                value_difference = round(response[currency]['Value'] - previuos_value, 4)\n",
        "                if value_difference < 0:\n",
        "                  return print(f\"Today {currency} exchange rate is lower than yesterday by {value_difference * -1} Rubles\")\n",
        "                else:\n",
        "                  return print(f\"Today {currency} exchange rate is higher than yesterday by {value_difference} Rubles\")\n",
        "      \n",
        "        return 'Error'\n",
        "    \n",
        "    def eur(self):\n",
        "        \"\"\"Returns Euro exchange rate for today in self.format\"\"\"\n",
        "        return self.make_format('EUR')\n",
        "    \n",
        "    def usd(self):\n",
        "        \"\"\"Returns Dollar exchange rate for today in self.format\"\"\"\n",
        "        return self.make_format('USD')\n",
        "\n",
        "    def AZN(self):\n",
        "        \"\"\"Returns Azerbaijani manat exchange rate for today in self.format\"\"\"\n",
        "        return self.make_format('AZN')"
      ],
      "metadata": {
        "id": "RUBVTOnk0k1L"
      },
      "execution_count": 1,
      "outputs": []
    },
    {
      "cell_type": "code",
      "source": [
        "r = Rate('full')\n",
        "b = Rate()\n",
        "d = Rate(diff=True)"
      ],
      "metadata": {
        "id": "XXw5KPAhzA5c"
      },
      "execution_count": 4,
      "outputs": []
    },
    {
      "cell_type": "code",
      "source": [
        "r.make_format('EUR')"
      ],
      "metadata": {
        "colab": {
          "base_uri": "https://localhost:8080/"
        },
        "id": "fEgrIHlLzOnU",
        "outputId": "27513eee-951d-4842-e0bb-8e729b1cd8dd"
      },
      "execution_count": null,
      "outputs": [
        {
          "output_type": "execute_result",
          "data": {
            "text/plain": [
              "{'CharCode': 'EUR',\n",
              " 'ID': 'R01239',\n",
              " 'Name': 'Евро',\n",
              " 'Nominal': 1,\n",
              " 'NumCode': '978',\n",
              " 'Previous': 62.7397,\n",
              " 'Value': 63.6629}"
            ]
          },
          "metadata": {},
          "execution_count": 67
        }
      ]
    },
    {
      "cell_type": "code",
      "source": [
        "b.make_format('EUR')"
      ],
      "metadata": {
        "colab": {
          "base_uri": "https://localhost:8080/"
        },
        "id": "lKqZ27gLztrq",
        "outputId": "083ab194-16eb-4b68-94ba-4122904c2c4a"
      },
      "execution_count": null,
      "outputs": [
        {
          "output_type": "execute_result",
          "data": {
            "text/plain": [
              "63.6629"
            ]
          },
          "metadata": {},
          "execution_count": 68
        }
      ]
    },
    {
      "cell_type": "code",
      "source": [
        "d.eur()"
      ],
      "metadata": {
        "colab": {
          "base_uri": "https://localhost:8080/"
        },
        "id": "YZ9Qi74EzwTy",
        "outputId": "cc8ba4ee-9c71-4d63-da3d-e3fedab6fb4c"
      },
      "execution_count": 5,
      "outputs": [
        {
          "output_type": "stream",
          "name": "stdout",
          "text": [
            "Today EUR exchange rate is higher than yesterday by 0.3731 Rubles\n"
          ]
        }
      ]
    },
    {
      "cell_type": "markdown",
      "source": [
        "# Task 3"
      ],
      "metadata": {
        "id": "xu0qM0Gb5miy"
      }
    },
    {
      "cell_type": "markdown",
      "source": [
        "Write a Designer class that takes into account the number of international awards. \n",
        "Hints in the lesson code"
      ],
      "metadata": {
        "id": "EkPCOC3qh274"
      }
    },
    {
      "cell_type": "code",
      "source": [
        "class Employee:\n",
        "    def __init__(self, name, seniority):\n",
        "        self.name = name\n",
        "        self.seniority = seniority\n",
        "        \n",
        "        self.grade = 1\n",
        "    \n",
        "    def grade_up(self):\n",
        "        \"\"\"Raises grade of an employee\"\"\"\n",
        "        self.grade += 1\n",
        "    \n",
        "    def publish_grade(self):\n",
        "        \"\"\"Publication of the results of employee accreditation\"\"\"\n",
        "        print(self.name, self.grade)\n",
        "    \n",
        "    def check_if_it_is_time_for_upgrade(self):\n",
        "        pass"
      ],
      "metadata": {
        "id": "t3f3HJQusPL0"
      },
      "execution_count": 6,
      "outputs": []
    },
    {
      "cell_type": "code",
      "source": [
        "class Designer(Employee):\n",
        "    def __init__(self, name, seniority, awards):\n",
        "        super().__init__(name, seniority)\n",
        "        self.seniority += awards * 2\n",
        "\n",
        "    def intenational_award(self):\n",
        "      \"\"\"\n",
        "      For each international award, an employee receives 2 points\n",
        "      \"\"\"\n",
        "      award = int(input('Enter the number of international awards received by the employee\\n'))\n",
        "      self.seniority += award * 2\n",
        "      if self.seniority % 7 > 0:\n",
        "        self.seniority -= 7\n",
        "        self.grade_up()\n",
        "\n",
        "      return self.publish_grade()\n",
        "\n",
        "    def check_if_it_is_time_for_upgrade(self):\n",
        "        # for each accreditation increases the counter by 1\n",
        "        self.seniority += 1\n",
        "        \n",
        "        # employee grade increase condition\n",
        "        if self.seniority % 7 == 0:\n",
        "            self.grade_up()\n",
        "        \n",
        "        # publication of results\n",
        "        return self.publish_grade()\n",
        "\n",
        "    def seniority_count(self):\n",
        "      \"\"\"\n",
        "      Returns the number of points in the current grade\n",
        "      \"\"\"\n",
        "      return self.seniority"
      ],
      "metadata": {
        "id": "iJkkWYfCsab7"
      },
      "execution_count": 12,
      "outputs": []
    },
    {
      "cell_type": "code",
      "source": [
        "alex = Designer('Александр', 0, 2)"
      ],
      "metadata": {
        "id": "jMFStjTJuNby"
      },
      "execution_count": 13,
      "outputs": []
    },
    {
      "cell_type": "code",
      "source": [
        "alex.publish_grade()"
      ],
      "metadata": {
        "colab": {
          "base_uri": "https://localhost:8080/"
        },
        "id": "KtbJ0uKXu9G6",
        "outputId": "650b4ce9-fc7e-40ae-f67c-213a1c1370b2"
      },
      "execution_count": 14,
      "outputs": [
        {
          "output_type": "stream",
          "name": "stdout",
          "text": [
            "Александр 1\n"
          ]
        }
      ]
    },
    {
      "cell_type": "code",
      "source": [
        "alex.seniority_count()"
      ],
      "metadata": {
        "colab": {
          "base_uri": "https://localhost:8080/"
        },
        "id": "_fCaKkGvvwCw",
        "outputId": "391c96fb-e0ee-4224-8c4c-dffe04e9822a"
      },
      "execution_count": 15,
      "outputs": [
        {
          "output_type": "execute_result",
          "data": {
            "text/plain": [
              "4"
            ]
          },
          "metadata": {},
          "execution_count": 15
        }
      ]
    },
    {
      "cell_type": "code",
      "source": [
        "alex.intenational_award()"
      ],
      "metadata": {
        "colab": {
          "base_uri": "https://localhost:8080/"
        },
        "id": "wNb7x0n7vIUL",
        "outputId": "77228ba4-ec76-42f1-e020-39a3a28ac8c6"
      },
      "execution_count": 16,
      "outputs": [
        {
          "output_type": "stream",
          "name": "stdout",
          "text": [
            "Enter the number of international awards received by the employee\n",
            "2\n",
            "Александр 2\n"
          ]
        }
      ]
    }
  ]
}