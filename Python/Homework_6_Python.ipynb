{
  "nbformat": 4,
  "nbformat_minor": 0,
  "metadata": {
    "colab": {
      "name": "Homework 6",
      "provenance": [],
      "collapsed_sections": []
    },
    "kernelspec": {
      "name": "python3",
      "display_name": "Python 3"
    },
    "language_info": {
      "name": "python"
    }
  },
  "cells": [
    {
      "cell_type": "markdown",
      "source": [
        "# Task 1"
      ],
      "metadata": {
        "id": "6ZSHXBfnOdBK"
      }
    },
    {
      "cell_type": "markdown",
      "source": [
        "Printed newspapers used their own date format for each issue. For each newspaper in the list, write the format for the specified date to be converted to a datetime object:"
      ],
      "metadata": {
        "id": "8bpFcxgFbHeE"
      }
    },
    {
      "cell_type": "code",
      "source": [
        "from datetime import datetime"
      ],
      "metadata": {
        "id": "e_mMOc7tOm9P"
      },
      "execution_count": 2,
      "outputs": []
    },
    {
      "cell_type": "code",
      "execution_count": null,
      "metadata": {
        "id": "lYX9dIYqOYrM"
      },
      "outputs": [],
      "source": [
        "The_Moscow_Times = 'Wednesday, October 2, 2002'\n",
        "The_Guardian = 'Friday, 11.10.13'\n",
        "Daily_News = 'Thursday, 18 August 1977'"
      ]
    },
    {
      "cell_type": "code",
      "source": [
        "Date_the_moscow_times = datetime.strptime(The_Moscow_Times, '%A, %B %d, %Y')\n",
        "Date_the_guardian = datetime.strptime(The_Guardian, '%A, %d.%m.%y')\n",
        "Date_daily_news = datetime.strptime(Daily_News, '%A, %d %B %Y')\n",
        "\n",
        "Date_the_moscow_times, Date_the_guardian, Date_daily_news"
      ],
      "metadata": {
        "colab": {
          "base_uri": "https://localhost:8080/"
        },
        "id": "E_Hj8Kh7OqgH",
        "outputId": "9de81adf-a294-4104-a55b-56c3403ab06a"
      },
      "execution_count": null,
      "outputs": [
        {
          "output_type": "execute_result",
          "data": {
            "text/plain": [
              "(datetime.datetime(2002, 10, 2, 0, 0),\n",
              " datetime.datetime(2013, 10, 11, 0, 0),\n",
              " datetime.datetime(1977, 8, 18, 0, 0))"
            ]
          },
          "metadata": {},
          "execution_count": 23
        }
      ]
    },
    {
      "cell_type": "markdown",
      "source": [
        "# Task 2"
      ],
      "metadata": {
        "id": "wp3uw5SNSlfA"
      }
    },
    {
      "cell_type": "markdown",
      "source": [
        "Given a stream of dates in YYYY-MM-DD format that contain incorrect values:\n",
        "\n",
        "stream = ['2018-04-02', '2018-02-29', '2018-19-02']\n",
        "\n",
        "Write a function that checks these dates for validity. That is, for each date returns True (the date is correct) or False (the date is incorrect)."
      ],
      "metadata": {
        "id": "dOC7gkiKbTB6"
      }
    },
    {
      "cell_type": "code",
      "source": [
        "stream = ['2018-04-02', '2018-02-29', '2018-19-02']"
      ],
      "metadata": {
        "id": "6NMWI0g7SnCF"
      },
      "execution_count": null,
      "outputs": []
    },
    {
      "cell_type": "code",
      "source": [
        "stream_in_date = []\n",
        "for date in stream:\n",
        "  try:\n",
        "    stream_in_date.append(datetime.strptime(date, '%Y-%m-%d'))\n",
        "    print(date, 'True')\n",
        "  except:\n",
        "    print(date, 'False')\n",
        "    pass"
      ],
      "metadata": {
        "colab": {
          "base_uri": "https://localhost:8080/"
        },
        "id": "mzE7go0i3PYl",
        "outputId": "aaff22b3-d090-423e-a017-3cd8a7574471"
      },
      "execution_count": null,
      "outputs": [
        {
          "output_type": "stream",
          "name": "stdout",
          "text": [
            "2018-04-02 True\n",
            "2018-02-29 False\n",
            "2018-19-02 False\n"
          ]
        }
      ]
    },
    {
      "cell_type": "markdown",
      "source": [
        "# Task 3"
      ],
      "metadata": {
        "id": "OEJ63WGY6Zvs"
      }
    },
    {
      "cell_type": "markdown",
      "source": [
        "Write a date_range function that returns a list of dates from start_date to end_date. Dates must be entered in YYYY-MM-DD format. If the format is invalid, or if start_date > end_date, an empty list should be returned."
      ],
      "metadata": {
        "id": "O57KeXtW6ZRt"
      }
    },
    {
      "cell_type": "code",
      "source": [
        "from datetime import timedelta"
      ],
      "metadata": {
        "id": "JU1B1-6u_I1q"
      },
      "execution_count": 1,
      "outputs": []
    },
    {
      "cell_type": "code",
      "source": [
        "def date_range():\n",
        "  date_list = []\n",
        "  start_date = input('Enter start date of the period in format YYYY-MM-DD:\\n')\n",
        "  end_date = input('Enter end date of the period in format YYYY-MM-DD:\\n')\n",
        "  try:\n",
        "    start_date_convert = datetime.strptime(start_date, '%Y-%m-%d')\n",
        "    while start_date_convert <= datetime.strptime(end_date, '%Y-%m-%d'):\n",
        "      date_for_list = start_date_convert.strftime('%Y-%m-%d')\n",
        "      date_list.append(date_for_list)\n",
        "      start_date_convert += timedelta(days=1)\n",
        "  finally:\n",
        "    print(date_list)\n",
        "\n",
        "date_range()"
      ],
      "metadata": {
        "colab": {
          "base_uri": "https://localhost:8080/"
        },
        "id": "0Zr7onz26Yqq",
        "outputId": "80120b99-95a9-4c59-eb20-edb918f16971"
      },
      "execution_count": 4,
      "outputs": [
        {
          "output_type": "stream",
          "name": "stdout",
          "text": [
            "Enter start date of the period in format YYYY-MM-DD:\n",
            "2022-05-14\n",
            "Enter end date of the period in format YYYY-MM-DD:\n",
            "2022-06-14\n",
            "['2022-05-14', '2022-05-15', '2022-05-16', '2022-05-17', '2022-05-18', '2022-05-19', '2022-05-20', '2022-05-21', '2022-05-22', '2022-05-23', '2022-05-24', '2022-05-25', '2022-05-26', '2022-05-27', '2022-05-28', '2022-05-29', '2022-05-30', '2022-05-31', '2022-06-01', '2022-06-02', '2022-06-03', '2022-06-04', '2022-06-05', '2022-06-06', '2022-06-07', '2022-06-08', '2022-06-09', '2022-06-10', '2022-06-11', '2022-06-12', '2022-06-13', '2022-06-14']\n"
          ]
        }
      ]
    },
    {
      "cell_type": "markdown",
      "source": [
        "# Task 4 (optional)"
      ],
      "metadata": {
        "id": "S3I_UXZQB1HW"
      }
    },
    {
      "cell_type": "markdown",
      "source": [
        "Your colleague sent the function code:"
      ],
      "metadata": {
        "id": "0irdd0GxcWgz"
      }
    },
    {
      "cell_type": "code",
      "source": [
        "DEFAULT_USER_COUNT = 3\n",
        "\n",
        "def delete_and_return_last_user(region, default_list=['A100', 'A101', 'A102']):\n",
        "  \"\"\"\n",
        "  Удаляет из списка default_list последнего пользователя\n",
        "  и возвращает ID нового последнего пользователя.\n",
        "  \"\"\"\n",
        "  element_to_delete = default_list[-1]\n",
        "  default_list.remove(element_to_delete)\n",
        "  return default_list[DEFAULT_USER_COUNT-2]\n",
        "\n",
        "delete_and_return_last_user(1)\n",
        "delete_and_return_last_user(1)"
      ],
      "metadata": {
        "id": "jzOWdMNHB2sk",
        "colab": {
          "base_uri": "https://localhost:8080/",
          "height": 321
        },
        "outputId": "e7faeba0-7fec-4323-9de6-761ee0ba3381"
      },
      "execution_count": 5,
      "outputs": [
        {
          "output_type": "error",
          "ename": "IndexError",
          "evalue": "ignored",
          "traceback": [
            "\u001b[0;31m---------------------------------------------------------------------------\u001b[0m",
            "\u001b[0;31mIndexError\u001b[0m                                Traceback (most recent call last)",
            "\u001b[0;32m<ipython-input-5-9c126f02ed45>\u001b[0m in \u001b[0;36m<module>\u001b[0;34m()\u001b[0m\n\u001b[1;32m     11\u001b[0m \u001b[0;34m\u001b[0m\u001b[0m\n\u001b[1;32m     12\u001b[0m \u001b[0mdelete_and_return_last_user\u001b[0m\u001b[0;34m(\u001b[0m\u001b[0;36m1\u001b[0m\u001b[0;34m)\u001b[0m\u001b[0;34m\u001b[0m\u001b[0;34m\u001b[0m\u001b[0m\n\u001b[0;32m---> 13\u001b[0;31m \u001b[0mdelete_and_return_last_user\u001b[0m\u001b[0;34m(\u001b[0m\u001b[0;36m1\u001b[0m\u001b[0;34m)\u001b[0m\u001b[0;34m\u001b[0m\u001b[0;34m\u001b[0m\u001b[0m\n\u001b[0m",
            "\u001b[0;32m<ipython-input-5-9c126f02ed45>\u001b[0m in \u001b[0;36mdelete_and_return_last_user\u001b[0;34m(region, default_list)\u001b[0m\n\u001b[1;32m      8\u001b[0m   \u001b[0melement_to_delete\u001b[0m \u001b[0;34m=\u001b[0m \u001b[0mdefault_list\u001b[0m\u001b[0;34m[\u001b[0m\u001b[0;34m-\u001b[0m\u001b[0;36m1\u001b[0m\u001b[0;34m]\u001b[0m\u001b[0;34m\u001b[0m\u001b[0;34m\u001b[0m\u001b[0m\n\u001b[1;32m      9\u001b[0m   \u001b[0mdefault_list\u001b[0m\u001b[0;34m.\u001b[0m\u001b[0mremove\u001b[0m\u001b[0;34m(\u001b[0m\u001b[0melement_to_delete\u001b[0m\u001b[0;34m)\u001b[0m\u001b[0;34m\u001b[0m\u001b[0;34m\u001b[0m\u001b[0m\n\u001b[0;32m---> 10\u001b[0;31m   \u001b[0;32mreturn\u001b[0m \u001b[0mdefault_list\u001b[0m\u001b[0;34m[\u001b[0m\u001b[0mDEFAULT_USER_COUNT\u001b[0m\u001b[0;34m-\u001b[0m\u001b[0;36m2\u001b[0m\u001b[0;34m]\u001b[0m\u001b[0;34m\u001b[0m\u001b[0;34m\u001b[0m\u001b[0m\n\u001b[0m\u001b[1;32m     11\u001b[0m \u001b[0;34m\u001b[0m\u001b[0m\n\u001b[1;32m     12\u001b[0m \u001b[0mdelete_and_return_last_user\u001b[0m\u001b[0;34m(\u001b[0m\u001b[0;36m1\u001b[0m\u001b[0;34m)\u001b[0m\u001b[0;34m\u001b[0m\u001b[0;34m\u001b[0m\u001b[0m\n",
            "\u001b[0;31mIndexError\u001b[0m: list index out of range"
          ]
        }
      ]
    },
    {
      "cell_type": "markdown",
      "source": [
        "When this function is called once, everything works correctly:\n",
        "delete_and_return_last_user(1)\n",
        "‘A101’\n",
        "\n",
        "However, when called again, the error is IndexError: list index out of range."
      ],
      "metadata": {
        "id": "Sis9HxLjcran"
      }
    },
    {
      "cell_type": "markdown",
      "source": [
        "Answer to questions:\n",
        "\n",
        "1.   'list index out of range' What does error mean?\n",
        "\n",
        "This error means that the index at which the code is trying to access the list is outside of it. That is, there is no element in the list that matches the index.\n",
        "\n",
        "2.   Why does the function work correctly on the first run, but not on the second run?\n",
        "\n",
        "In this case, on the first run, there are three items in the list.\n",
        "DEFAULT_USER_COUNT variable is also = 3.\n",
        "After the first iteration, the number of elements becomes two and the final element with index 1 is returned.\n",
        "But the global variable DEFAULT_USER_COUNT is not overwritten and is still 3.\n",
        "When the function is called again, it tries to return an element from the list with index 1, but only 1 element with index 0 remains in the list. In connection with this, an error occurs."
      ],
      "metadata": {
        "id": "rWPiXTV-DxBZ"
      }
    },
    {
      "cell_type": "markdown",
      "source": [
        "**Below are two versions of the corrected function.**"
      ],
      "metadata": {
        "id": "AVkTbbNbdmNu"
      }
    },
    {
      "cell_type": "code",
      "source": [
        "DEFAULT_USER_COUNT = 3\n",
        "\n",
        "def delete_and_return_last_user(region, default_list=['A100', 'A101', 'A102']):\n",
        "  \"\"\"\n",
        "  This function removes the last user from default_list\n",
        "  and returns the ID of the new last user.\n",
        "  \"\"\"\n",
        "  element_to_delete = default_list[-1]\n",
        "  default_list.remove(element_to_delete)\n",
        "  global DEFAULT_USER_COUNT\n",
        "  DEFAULT_USER_COUNT -= 1\n",
        "  if DEFAULT_USER_COUNT != 0:\n",
        "    return default_list[DEFAULT_USER_COUNT-2]\n",
        "  else:\n",
        "    print(default_list, ' - list \"default_list\" is empty')\n",
        "\n",
        "delete_and_return_last_user(1)\n",
        "delete_and_return_last_user(1)\n",
        "delete_and_return_last_user(1)"
      ],
      "metadata": {
        "colab": {
          "base_uri": "https://localhost:8080/"
        },
        "id": "r6cZHDiGGMzG",
        "outputId": "36136192-2bb8-4ae2-800a-7fb905e39c09"
      },
      "execution_count": 9,
      "outputs": [
        {
          "output_type": "stream",
          "name": "stdout",
          "text": [
            "[]  - list \"default_list\" is empty\n"
          ]
        }
      ]
    },
    {
      "cell_type": "code",
      "source": [
        "DEFAULT_USER_COUNT = 3\n",
        "\n",
        "def delete_and_return_last_user(region, default_list=['A100', 'A101', 'A102']):\n",
        "  \"\"\"\n",
        "  УThis function removes the last user from default_list\n",
        "  and returns the ID of the new last user.\n",
        "  \"\"\"\n",
        "  element_to_delete = default_list[-1]\n",
        "  default_list.remove(element_to_delete)\n",
        "  if len(default_list) != 0:\n",
        "    return default_list[-1]\n",
        "  else:\n",
        "    print(default_list, ' - list \"default_list\" is empty')\n",
        "\n",
        "delete_and_return_last_user(1)\n",
        "delete_and_return_last_user(1)\n",
        "delete_and_return_last_user(1)"
      ],
      "metadata": {
        "colab": {
          "base_uri": "https://localhost:8080/"
        },
        "id": "KgBC9PA_HYWE",
        "outputId": "22b6ab2a-5912-4a54-b8d5-64a347b53f3f"
      },
      "execution_count": 8,
      "outputs": [
        {
          "output_type": "stream",
          "name": "stdout",
          "text": [
            "[]  - list \"default_list\" is empty\n"
          ]
        }
      ]
    }
  ]
}